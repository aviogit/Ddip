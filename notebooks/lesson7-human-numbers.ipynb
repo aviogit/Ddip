{
 "cells": [
  {
   "cell_type": "markdown",
   "metadata": {},
   "source": [
    "# Human numbers"
   ]
  },
  {
   "cell_type": "code",
   "execution_count": 1,
   "metadata": {},
   "outputs": [
    {
     "name": "stdout",
     "output_type": "stream",
     "text": [
      "Waiting for connection file: ~/.ipython/profile_default/security/ipcontroller-ippdpp_c-client.json\n"
     ]
    }
   ],
   "source": [
    "%load_ext Ddip\n",
    "%makedip -a fastai_v1 -g all"
   ]
  },
  {
   "cell_type": "code",
   "execution_count": 2,
   "metadata": {},
   "outputs": [],
   "source": [
    "%%dip everywhere\n",
    "from fastai.text import *"
   ]
  },
  {
   "cell_type": "code",
   "execution_count": 3,
   "metadata": {},
   "outputs": [],
   "source": [
    "bs=64"
   ]
  },
  {
   "cell_type": "markdown",
   "metadata": {},
   "source": [
    "## Data"
   ]
  },
  {
   "cell_type": "code",
   "execution_count": 4,
   "metadata": {},
   "outputs": [
    {
     "data": {
      "text/plain": [
       "[PosixPath('/home/ndim1/.fastai/data/human_numbers/valid.txt'),\n",
       " PosixPath('/home/ndim1/.fastai/data/human_numbers/tmp'),\n",
       " PosixPath('/home/ndim1/.fastai/data/human_numbers/train.txt')]"
      ]
     },
     "execution_count": 4,
     "metadata": {},
     "output_type": "execute_result"
    }
   ],
   "source": [
    "path = untar_data(URLs.HUMAN_NUMBERS)\n",
    "path.ls()"
   ]
  },
  {
   "cell_type": "code",
   "execution_count": 5,
   "metadata": {},
   "outputs": [],
   "source": [
    "def readnums(d): return [', '.join(o.strip() for o in open(path/d).readlines())]"
   ]
  },
  {
   "cell_type": "code",
   "execution_count": 6,
   "metadata": {},
   "outputs": [
    {
     "data": {
      "text/plain": [
       "'one, two, three, four, five, six, seven, eight, nine, ten, eleven, twelve, thirt'"
      ]
     },
     "execution_count": 6,
     "metadata": {},
     "output_type": "execute_result"
    }
   ],
   "source": [
    "train_txt = readnums('train.txt'); train_txt[0][:80]"
   ]
  },
  {
   "cell_type": "code",
   "execution_count": 7,
   "metadata": {},
   "outputs": [
    {
     "data": {
      "text/plain": [
       "' nine thousand nine hundred ninety eight, nine thousand nine hundred ninety nine'"
      ]
     },
     "execution_count": 7,
     "metadata": {},
     "output_type": "execute_result"
    }
   ],
   "source": [
    "valid_txt = readnums('valid.txt'); valid_txt[0][-80:]"
   ]
  },
  {
   "cell_type": "code",
   "execution_count": 8,
   "metadata": {},
   "outputs": [],
   "source": [
    "%dipush bs path train_txt valid_txt\n",
    "%autodip on"
   ]
  },
  {
   "cell_type": "code",
   "execution_count": 10,
   "metadata": {},
   "outputs": [
    {
     "name": "stdout",
     "output_type": "stream",
     "text": [
      "                                                                     \r"
     ]
    }
   ],
   "source": [
    "train = TextList(train_txt, path=path)\n",
    "valid = TextList(valid_txt, path=path)\n",
    "\n",
    "src = ItemLists(path=path, train=train, valid=valid).label_for_lm()\n",
    "data = src.databunch(bs=bs)"
   ]
  },
  {
   "cell_type": "code",
   "execution_count": 11,
   "metadata": {},
   "outputs": [
    {
     "data": {
      "text/plain": [
       "\u001b[0;31mOut[0:3]: \u001b[0m'xxbos one , two , three , four , five , six , seven , eight , nine , ten , eleve'"
      ]
     },
     "metadata": {
      "after": [],
      "completed": "2020-01-31T07:43:07.923024",
      "data": {},
      "engine_id": 0,
      "engine_uuid": "1fe93b75-4fb3254088ab048a48ba3dc5",
      "error": null,
      "execute_input": "train[0].text[:80]\n",
      "execute_result": {
       "data": {
        "text/plain": "'xxbos one , two , three , four , five , six , seven , eight , nine , ten , eleve'"
       },
       "execution_count": 3,
       "metadata": {}
      },
      "follow": [],
      "msg_id": "9796d00d-581e3b2d2f61ef6717b30166",
      "outputs": [],
      "received": "2020-01-31T07:43:07.926460",
      "started": "2020-01-31T07:43:07.907501",
      "status": "ok",
      "stderr": "",
      "stdout": "",
      "submitted": "2020-01-31T07:43:07.902961"
     },
     "output_type": "display_data"
    }
   ],
   "source": [
    "train[0].text[:80]"
   ]
  },
  {
   "cell_type": "code",
   "execution_count": 12,
   "metadata": {},
   "outputs": [
    {
     "data": {
      "text/plain": [
       "\u001b[0;31mOut[0:4]: \u001b[0m13017"
      ]
     },
     "metadata": {
      "after": [],
      "completed": "2020-01-31T07:43:09.636609",
      "data": {},
      "engine_id": 0,
      "engine_uuid": "1fe93b75-4fb3254088ab048a48ba3dc5",
      "error": null,
      "execute_input": "len(data.valid_ds[0][0].data)\n",
      "execute_result": {
       "data": {
        "text/plain": "13017"
       },
       "execution_count": 4,
       "metadata": {}
      },
      "follow": [],
      "msg_id": "158a4686-132e1a28bc161267a3246a5e",
      "outputs": [],
      "received": "2020-01-31T07:43:09.640362",
      "started": "2020-01-31T07:43:09.629945",
      "status": "ok",
      "stderr": "",
      "stdout": "",
      "submitted": "2020-01-31T07:43:09.627255"
     },
     "output_type": "display_data"
    }
   ],
   "source": [
    "len(data.valid_ds[0][0].data)"
   ]
  },
  {
   "cell_type": "code",
   "execution_count": 13,
   "metadata": {},
   "outputs": [
    {
     "data": {
      "text/plain": [
       "\u001b[0;31mOut[0:5]: \u001b[0m(70, 3)"
      ]
     },
     "metadata": {
      "after": [],
      "completed": "2020-01-31T07:43:09.867360",
      "data": {},
      "engine_id": 0,
      "engine_uuid": "1fe93b75-4fb3254088ab048a48ba3dc5",
      "error": null,
      "execute_input": "data.bptt, len(data.valid_dl)\n",
      "execute_result": {
       "data": {
        "text/plain": "(70, 3)"
       },
       "execution_count": 5,
       "metadata": {}
      },
      "follow": [],
      "msg_id": "dbe038c1-f6f8d52e3c073f4426224438",
      "outputs": [],
      "received": "2020-01-31T07:43:09.870393",
      "started": "2020-01-31T07:43:09.864158",
      "status": "ok",
      "stderr": "",
      "stdout": "",
      "submitted": "2020-01-31T07:43:09.861901"
     },
     "output_type": "display_data"
    }
   ],
   "source": [
    "data.bptt, len(data.valid_dl)"
   ]
  },
  {
   "cell_type": "code",
   "execution_count": 14,
   "metadata": {},
   "outputs": [
    {
     "data": {
      "text/plain": [
       "\u001b[0;31mOut[0:6]: \u001b[0m2.905580357142857"
      ]
     },
     "metadata": {
      "after": [],
      "completed": "2020-01-31T07:43:10.114803",
      "data": {},
      "engine_id": 0,
      "engine_uuid": "1fe93b75-4fb3254088ab048a48ba3dc5",
      "error": null,
      "execute_input": "13017/70/bs\n",
      "execute_result": {
       "data": {
        "text/plain": "2.905580357142857"
       },
       "execution_count": 6,
       "metadata": {}
      },
      "follow": [],
      "msg_id": "5dedcb67-0b5e3e1c88d1abd9b755ff96",
      "outputs": [],
      "received": "2020-01-31T07:43:10.119402",
      "started": "2020-01-31T07:43:10.110647",
      "status": "ok",
      "stderr": "",
      "stdout": "",
      "submitted": "2020-01-31T07:43:10.107645"
     },
     "output_type": "display_data"
    }
   ],
   "source": [
    "13017/70/bs"
   ]
  },
  {
   "cell_type": "code",
   "execution_count": 15,
   "metadata": {},
   "outputs": [],
   "source": [
    "it = iter(data.valid_dl)\n",
    "x1,y1 = next(it)\n",
    "x2,y2 = next(it)\n",
    "x3,y3 = next(it)\n",
    "it.close()"
   ]
  },
  {
   "cell_type": "code",
   "execution_count": 16,
   "metadata": {},
   "outputs": [
    {
     "data": {
      "text/plain": [
       "\u001b[0;31mOut[0:8]: \u001b[0m13440"
      ]
     },
     "metadata": {
      "after": [],
      "completed": "2020-01-31T07:43:15.385134",
      "data": {},
      "engine_id": 0,
      "engine_uuid": "1fe93b75-4fb3254088ab048a48ba3dc5",
      "error": null,
      "execute_input": "x1.numel()+x2.numel()+x3.numel()\n",
      "execute_result": {
       "data": {
        "text/plain": "13440"
       },
       "execution_count": 8,
       "metadata": {}
      },
      "follow": [],
      "msg_id": "376da9fc-5a615221abe6207c2c1e69d7",
      "outputs": [],
      "received": "2020-01-31T07:43:15.388392",
      "started": "2020-01-31T07:43:15.380848",
      "status": "ok",
      "stderr": "",
      "stdout": "",
      "submitted": "2020-01-31T07:43:15.378527"
     },
     "output_type": "display_data"
    }
   ],
   "source": [
    "x1.numel()+x2.numel()+x3.numel()"
   ]
  },
  {
   "cell_type": "code",
   "execution_count": 17,
   "metadata": {},
   "outputs": [
    {
     "data": {
      "text/plain": [
       "\u001b[0;31mOut[0:9]: \u001b[0m(torch.Size([64, 70]), torch.Size([64, 70]))"
      ]
     },
     "metadata": {
      "after": [],
      "completed": "2020-01-31T07:43:15.631742",
      "data": {},
      "engine_id": 0,
      "engine_uuid": "1fe93b75-4fb3254088ab048a48ba3dc5",
      "error": null,
      "execute_input": "x1.shape,y1.shape\n",
      "execute_result": {
       "data": {
        "text/plain": "(torch.Size([64, 70]), torch.Size([64, 70]))"
       },
       "execution_count": 9,
       "metadata": {}
      },
      "follow": [],
      "msg_id": "38892721-b5e65389df2555a85bf53c03",
      "outputs": [],
      "received": "2020-01-31T07:43:15.635707",
      "started": "2020-01-31T07:43:15.627671",
      "status": "ok",
      "stderr": "",
      "stdout": "",
      "submitted": "2020-01-31T07:43:15.622771"
     },
     "output_type": "display_data"
    }
   ],
   "source": [
    "x1.shape,y1.shape"
   ]
  },
  {
   "cell_type": "code",
   "execution_count": 18,
   "metadata": {},
   "outputs": [
    {
     "data": {
      "text/plain": [
       "\u001b[0;31mOut[0:10]: \u001b[0m(torch.Size([64, 70]), torch.Size([64, 70]))"
      ]
     },
     "metadata": {
      "after": [],
      "completed": "2020-01-31T07:43:15.869759",
      "data": {},
      "engine_id": 0,
      "engine_uuid": "1fe93b75-4fb3254088ab048a48ba3dc5",
      "error": null,
      "execute_input": "x2.shape,y2.shape\n",
      "execute_result": {
       "data": {
        "text/plain": "(torch.Size([64, 70]), torch.Size([64, 70]))"
       },
       "execution_count": 10,
       "metadata": {}
      },
      "follow": [],
      "msg_id": "728d7fc0-5125e882cc251e18fcbce237",
      "outputs": [],
      "received": "2020-01-31T07:43:15.875279",
      "started": "2020-01-31T07:43:15.864519",
      "status": "ok",
      "stderr": "",
      "stdout": "",
      "submitted": "2020-01-31T07:43:15.860836"
     },
     "output_type": "display_data"
    }
   ],
   "source": [
    "x2.shape,y2.shape"
   ]
  },
  {
   "cell_type": "code",
   "execution_count": 19,
   "metadata": {},
   "outputs": [
    {
     "data": {
      "text/plain": [
       "\u001b[0;31mOut[0:11]: \u001b[0m\n",
       "tensor([ 2, 36, 19,  9, 20, 26, 11, 19, 12, 12, 19,  9, 13, 25, 10, 11, 19, 11,\n",
       "        10, 13, 19,  9, 14, 25, 10, 11, 19, 14, 33, 14, 19,  9, 15, 25, 10, 11,\n",
       "        19, 10,  9, 15, 19,  9, 16, 25, 10, 11, 19, 16, 19, 16, 19,  9, 17, 25,\n",
       "        10, 11, 19,  9, 11, 17, 19,  9, 18, 25], device='cuda:0')"
      ]
     },
     "metadata": {
      "after": [],
      "completed": "2020-01-31T07:43:19.207832",
      "data": {},
      "engine_id": 0,
      "engine_uuid": "1fe93b75-4fb3254088ab048a48ba3dc5",
      "error": null,
      "execute_input": "x1[:,0]\n",
      "execute_result": {
       "data": {
        "text/plain": "tensor([ 2, 36, 19,  9, 20, 26, 11, 19, 12, 12, 19,  9, 13, 25, 10, 11, 19, 11,\n        10, 13, 19,  9, 14, 25, 10, 11, 19, 14, 33, 14, 19,  9, 15, 25, 10, 11,\n        19, 10,  9, 15, 19,  9, 16, 25, 10, 11, 19, 16, 19, 16, 19,  9, 17, 25,\n        10, 11, 19,  9, 11, 17, 19,  9, 18, 25], device='cuda:0')"
       },
       "execution_count": 11,
       "metadata": {}
      },
      "follow": [],
      "msg_id": "6dbda2c7-5c2132353dac24c808bfa79b",
      "outputs": [],
      "received": "2020-01-31T07:43:19.211602",
      "started": "2020-01-31T07:43:19.201470",
      "status": "ok",
      "stderr": "",
      "stdout": "",
      "submitted": "2020-01-31T07:43:19.199389"
     },
     "output_type": "display_data"
    }
   ],
   "source": [
    "x1[:,0]"
   ]
  },
  {
   "cell_type": "code",
   "execution_count": 20,
   "metadata": {},
   "outputs": [
    {
     "data": {
      "text/plain": [
       "\u001b[0;31mOut[0:12]: \u001b[0m\n",
       "tensor([19,  9, 11, 19,  9, 14, 27, 11, 10, 10, 11, 19,  9, 13, 26, 12, 11, 13,\n",
       "        32, 10, 11, 19,  9, 14, 26, 13, 11, 10,  9, 10, 11, 19,  9, 15, 26, 14,\n",
       "        11, 15, 19, 10, 11, 19,  9, 16, 26, 15, 11,  9, 11, 10, 11, 19,  9, 17,\n",
       "        26, 16, 11, 19, 17, 10, 11, 19,  9, 18], device='cuda:0')"
      ]
     },
     "metadata": {
      "after": [],
      "completed": "2020-01-31T07:43:19.862606",
      "data": {},
      "engine_id": 0,
      "engine_uuid": "1fe93b75-4fb3254088ab048a48ba3dc5",
      "error": null,
      "execute_input": "y1[:,0]\n",
      "execute_result": {
       "data": {
        "text/plain": "tensor([19,  9, 11, 19,  9, 14, 27, 11, 10, 10, 11, 19,  9, 13, 26, 12, 11, 13,\n        32, 10, 11, 19,  9, 14, 26, 13, 11, 10,  9, 10, 11, 19,  9, 15, 26, 14,\n        11, 15, 19, 10, 11, 19,  9, 16, 26, 15, 11,  9, 11, 10, 11, 19,  9, 17,\n        26, 16, 11, 19, 17, 10, 11, 19,  9, 18], device='cuda:0')"
       },
       "execution_count": 12,
       "metadata": {}
      },
      "follow": [],
      "msg_id": "9efcf9e2-059e545d9e423de725404afb",
      "outputs": [],
      "received": "2020-01-31T07:43:19.867248",
      "started": "2020-01-31T07:43:19.856003",
      "status": "ok",
      "stderr": "",
      "stdout": "",
      "submitted": "2020-01-31T07:43:19.854073"
     },
     "output_type": "display_data"
    }
   ],
   "source": [
    "y1[:,0]"
   ]
  },
  {
   "cell_type": "code",
   "execution_count": 22,
   "metadata": {},
   "outputs": [],
   "source": [
    "v = data.valid_ds.vocab"
   ]
  },
  {
   "cell_type": "code",
   "execution_count": 23,
   "metadata": {},
   "outputs": [
    {
     "data": {
      "text/plain": [
       "\u001b[0;31mOut[0:15]: \u001b[0m'xxbos eight thousand one , eight thousand two , eight thousand three , eight thousand four , eight thousand five , eight thousand six , eight thousand seven , eight thousand eight , eight thousand nine , eight thousand ten , eight thousand eleven , eight thousand twelve , eight thousand thirteen , eight thousand fourteen , eight thousand fifteen , eight thousand sixteen , eight thousand seventeen , eight'"
      ]
     },
     "metadata": {
      "after": [],
      "completed": "2020-01-31T07:43:40.784770",
      "data": {},
      "engine_id": 0,
      "engine_uuid": "1fe93b75-4fb3254088ab048a48ba3dc5",
      "error": null,
      "execute_input": "v.textify(x1[0])\n",
      "execute_result": {
       "data": {
        "text/plain": "'xxbos eight thousand one , eight thousand two , eight thousand three , eight thousand four , eight thousand five , eight thousand six , eight thousand seven , eight thousand eight , eight thousand nine , eight thousand ten , eight thousand eleven , eight thousand twelve , eight thousand thirteen , eight thousand fourteen , eight thousand fifteen , eight thousand sixteen , eight thousand seventeen , eight'"
       },
       "execution_count": 15,
       "metadata": {}
      },
      "follow": [],
      "msg_id": "fdbbed79-f4ebe9693adea40253c3c3a7",
      "outputs": [],
      "received": "2020-01-31T07:43:40.788225",
      "started": "2020-01-31T07:43:40.735749",
      "status": "ok",
      "stderr": "",
      "stdout": "",
      "submitted": "2020-01-31T07:43:40.731413"
     },
     "output_type": "display_data"
    }
   ],
   "source": [
    "v.textify(x1[0])"
   ]
  },
  {
   "cell_type": "code",
   "execution_count": 24,
   "metadata": {},
   "outputs": [
    {
     "data": {
      "text/plain": [
       "\u001b[0;31mOut[0:16]: \u001b[0m'eight thousand one , eight thousand two , eight thousand three , eight thousand four , eight thousand five , eight thousand six , eight thousand seven , eight thousand eight , eight thousand nine , eight thousand ten , eight thousand eleven , eight thousand twelve , eight thousand thirteen , eight thousand fourteen , eight thousand fifteen , eight thousand sixteen , eight thousand seventeen , eight thousand'"
      ]
     },
     "metadata": {
      "after": [],
      "completed": "2020-01-31T07:43:42.685226",
      "data": {},
      "engine_id": 0,
      "engine_uuid": "1fe93b75-4fb3254088ab048a48ba3dc5",
      "error": null,
      "execute_input": "v.textify(y1[0])\n",
      "execute_result": {
       "data": {
        "text/plain": "'eight thousand one , eight thousand two , eight thousand three , eight thousand four , eight thousand five , eight thousand six , eight thousand seven , eight thousand eight , eight thousand nine , eight thousand ten , eight thousand eleven , eight thousand twelve , eight thousand thirteen , eight thousand fourteen , eight thousand fifteen , eight thousand sixteen , eight thousand seventeen , eight thousand'"
       },
       "execution_count": 16,
       "metadata": {}
      },
      "follow": [],
      "msg_id": "1070ac12-c351dbf9de6909fca307fc52",
      "outputs": [],
      "received": "2020-01-31T07:43:42.689492",
      "started": "2020-01-31T07:43:42.678895",
      "status": "ok",
      "stderr": "",
      "stdout": "",
      "submitted": "2020-01-31T07:43:42.675007"
     },
     "output_type": "display_data"
    }
   ],
   "source": [
    "v.textify(y1[0])"
   ]
  },
  {
   "cell_type": "code",
   "execution_count": 25,
   "metadata": {},
   "outputs": [
    {
     "data": {
      "text/plain": [
       "\u001b[0;31mOut[0:17]: \u001b[0m'hundred seventy seven , eight thousand six hundred seventy eight , eight thousand six hundred seventy nine , eight thousand six hundred eighty , eight thousand six hundred eighty one , eight thousand six hundred eighty two , eight thousand six hundred eighty three , eight thousand six hundred eighty four , eight thousand six hundred eighty five , eight thousand six hundred eighty six , eight thousand six hundred'"
      ]
     },
     "metadata": {
      "after": [],
      "completed": "2020-01-31T07:43:43.428600",
      "data": {},
      "engine_id": 0,
      "engine_uuid": "1fe93b75-4fb3254088ab048a48ba3dc5",
      "error": null,
      "execute_input": "v.textify(x2[0])\n",
      "execute_result": {
       "data": {
        "text/plain": "'hundred seventy seven , eight thousand six hundred seventy eight , eight thousand six hundred seventy nine , eight thousand six hundred eighty , eight thousand six hundred eighty one , eight thousand six hundred eighty two , eight thousand six hundred eighty three , eight thousand six hundred eighty four , eight thousand six hundred eighty five , eight thousand six hundred eighty six , eight thousand six hundred'"
       },
       "execution_count": 17,
       "metadata": {}
      },
      "follow": [],
      "msg_id": "00547e07-447fb159315ed4f53790d2b3",
      "outputs": [],
      "received": "2020-01-31T07:43:43.431916",
      "started": "2020-01-31T07:43:43.422614",
      "status": "ok",
      "stderr": "",
      "stdout": "",
      "submitted": "2020-01-31T07:43:43.419340"
     },
     "output_type": "display_data"
    }
   ],
   "source": [
    "v.textify(x2[0])"
   ]
  },
  {
   "cell_type": "code",
   "execution_count": 26,
   "metadata": {},
   "outputs": [
    {
     "data": {
      "text/plain": [
       "\u001b[0;31mOut[0:18]: \u001b[0m'fifty four , nine thousand three hundred fifty five , nine thousand three hundred fifty six , nine thousand three hundred fifty seven , nine thousand three hundred fifty eight , nine thousand three hundred fifty nine , nine thousand three hundred sixty , nine thousand three hundred sixty one , nine thousand three hundred sixty two , nine thousand three hundred sixty three , nine thousand three hundred sixty'"
      ]
     },
     "metadata": {
      "after": [],
      "completed": "2020-01-31T07:43:44.093974",
      "data": {},
      "engine_id": 0,
      "engine_uuid": "1fe93b75-4fb3254088ab048a48ba3dc5",
      "error": null,
      "execute_input": "v.textify(x3[0])\n",
      "execute_result": {
       "data": {
        "text/plain": "'fifty four , nine thousand three hundred fifty five , nine thousand three hundred fifty six , nine thousand three hundred fifty seven , nine thousand three hundred fifty eight , nine thousand three hundred fifty nine , nine thousand three hundred sixty , nine thousand three hundred sixty one , nine thousand three hundred sixty two , nine thousand three hundred sixty three , nine thousand three hundred sixty'"
       },
       "execution_count": 18,
       "metadata": {}
      },
      "follow": [],
      "msg_id": "fca6314f-3c41d92d2e6d2599f316f066",
      "outputs": [],
      "received": "2020-01-31T07:43:44.096419",
      "started": "2020-01-31T07:43:44.087766",
      "status": "ok",
      "stderr": "",
      "stdout": "",
      "submitted": "2020-01-31T07:43:44.085064"
     },
     "output_type": "display_data"
    }
   ],
   "source": [
    "v.textify(x3[0])"
   ]
  },
  {
   "cell_type": "code",
   "execution_count": 27,
   "metadata": {},
   "outputs": [
    {
     "data": {
      "text/plain": [
       "\u001b[0;31mOut[0:19]: \u001b[0m'seventeen , eight thousand eighteen , eight thousand nineteen , eight thousand twenty , eight thousand twenty one , eight thousand twenty two , eight thousand twenty three , eight thousand twenty four , eight thousand twenty five , eight thousand twenty six , eight thousand twenty seven , eight thousand twenty eight , eight thousand twenty nine , eight thousand thirty , eight thousand thirty one , eight thousand'"
      ]
     },
     "metadata": {
      "after": [],
      "completed": "2020-01-31T07:43:46.118345",
      "data": {},
      "engine_id": 0,
      "engine_uuid": "1fe93b75-4fb3254088ab048a48ba3dc5",
      "error": null,
      "execute_input": "v.textify(x1[1])\n",
      "execute_result": {
       "data": {
        "text/plain": "'seventeen , eight thousand eighteen , eight thousand nineteen , eight thousand twenty , eight thousand twenty one , eight thousand twenty two , eight thousand twenty three , eight thousand twenty four , eight thousand twenty five , eight thousand twenty six , eight thousand twenty seven , eight thousand twenty eight , eight thousand twenty nine , eight thousand thirty , eight thousand thirty one , eight thousand'"
       },
       "execution_count": 19,
       "metadata": {}
      },
      "follow": [],
      "msg_id": "81b38650-ec80c9edde94738a59efdf3c",
      "outputs": [],
      "received": "2020-01-31T07:43:46.123347",
      "started": "2020-01-31T07:43:46.114117",
      "status": "ok",
      "stderr": "",
      "stdout": "",
      "submitted": "2020-01-31T07:43:46.111446"
     },
     "output_type": "display_data"
    }
   ],
   "source": [
    "v.textify(x1[1])"
   ]
  },
  {
   "cell_type": "code",
   "execution_count": 28,
   "metadata": {},
   "outputs": [
    {
     "data": {
      "text/plain": [
       "\u001b[0;31mOut[0:20]: \u001b[0m'thousand six hundred eighty seven , eight thousand six hundred eighty eight , eight thousand six hundred eighty nine , eight thousand six hundred ninety , eight thousand six hundred ninety one , eight thousand six hundred ninety two , eight thousand six hundred ninety three , eight thousand six hundred ninety four , eight thousand six hundred ninety five , eight thousand six hundred ninety six , eight thousand'"
      ]
     },
     "metadata": {
      "after": [],
      "completed": "2020-01-31T07:43:57.231775",
      "data": {},
      "engine_id": 0,
      "engine_uuid": "1fe93b75-4fb3254088ab048a48ba3dc5",
      "error": null,
      "execute_input": "v.textify(x2[1])\n",
      "execute_result": {
       "data": {
        "text/plain": "'thousand six hundred eighty seven , eight thousand six hundred eighty eight , eight thousand six hundred eighty nine , eight thousand six hundred ninety , eight thousand six hundred ninety one , eight thousand six hundred ninety two , eight thousand six hundred ninety three , eight thousand six hundred ninety four , eight thousand six hundred ninety five , eight thousand six hundred ninety six , eight thousand'"
       },
       "execution_count": 20,
       "metadata": {}
      },
      "follow": [],
      "msg_id": "142d93cb-a163127fb19b352ebf1c0fb9",
      "outputs": [],
      "received": "2020-01-31T07:43:57.235310",
      "started": "2020-01-31T07:43:57.227473",
      "status": "ok",
      "stderr": "",
      "stdout": "",
      "submitted": "2020-01-31T07:43:57.222852"
     },
     "output_type": "display_data"
    }
   ],
   "source": [
    "v.textify(x2[1])"
   ]
  },
  {
   "cell_type": "code",
   "execution_count": 29,
   "metadata": {},
   "outputs": [
    {
     "data": {
      "text/plain": [
       "\u001b[0;31mOut[0:21]: \u001b[0m'three hundred sixty four , nine thousand three hundred sixty five , nine thousand three hundred sixty six , nine thousand three hundred sixty seven , nine thousand three hundred sixty eight , nine thousand three hundred sixty nine , nine thousand three hundred seventy , nine thousand three hundred seventy one , nine thousand three hundred seventy two , nine thousand three hundred seventy three , nine thousand three'"
      ]
     },
     "metadata": {
      "after": [],
      "completed": "2020-01-31T07:43:57.568895",
      "data": {},
      "engine_id": 0,
      "engine_uuid": "1fe93b75-4fb3254088ab048a48ba3dc5",
      "error": null,
      "execute_input": "v.textify(x3[1])\n",
      "execute_result": {
       "data": {
        "text/plain": "'three hundred sixty four , nine thousand three hundred sixty five , nine thousand three hundred sixty six , nine thousand three hundred sixty seven , nine thousand three hundred sixty eight , nine thousand three hundred sixty nine , nine thousand three hundred seventy , nine thousand three hundred seventy one , nine thousand three hundred seventy two , nine thousand three hundred seventy three , nine thousand three'"
       },
       "execution_count": 21,
       "metadata": {}
      },
      "follow": [],
      "msg_id": "a7f9ff6c-8ccb49df563d13558c34e471",
      "outputs": [],
      "received": "2020-01-31T07:43:57.573279",
      "started": "2020-01-31T07:43:57.561897",
      "status": "ok",
      "stderr": "",
      "stdout": "",
      "submitted": "2020-01-31T07:43:57.558286"
     },
     "output_type": "display_data"
    }
   ],
   "source": [
    "v.textify(x3[1])"
   ]
  },
  {
   "cell_type": "code",
   "execution_count": 30,
   "metadata": {},
   "outputs": [
    {
     "data": {
      "text/plain": [
       "\u001b[0;31mOut[0:22]: \u001b[0m'nine thousand nine hundred ninety , nine thousand nine hundred ninety one , nine thousand nine hundred ninety two , nine thousand nine hundred ninety three , nine thousand nine hundred ninety four , nine thousand nine hundred ninety five , nine thousand nine hundred ninety six , nine thousand nine hundred ninety seven , nine thousand nine hundred ninety eight , nine thousand nine hundred ninety nine xxbos eight'"
      ]
     },
     "metadata": {
      "after": [],
      "completed": "2020-01-31T07:43:57.810081",
      "data": {},
      "engine_id": 0,
      "engine_uuid": "1fe93b75-4fb3254088ab048a48ba3dc5",
      "error": null,
      "execute_input": "v.textify(x3[-1])\n",
      "execute_result": {
       "data": {
        "text/plain": "'nine thousand nine hundred ninety , nine thousand nine hundred ninety one , nine thousand nine hundred ninety two , nine thousand nine hundred ninety three , nine thousand nine hundred ninety four , nine thousand nine hundred ninety five , nine thousand nine hundred ninety six , nine thousand nine hundred ninety seven , nine thousand nine hundred ninety eight , nine thousand nine hundred ninety nine xxbos eight'"
       },
       "execution_count": 22,
       "metadata": {}
      },
      "follow": [],
      "msg_id": "0947c43b-0b029974000035e773db2bb6",
      "outputs": [],
      "received": "2020-01-31T07:43:57.813684",
      "started": "2020-01-31T07:43:57.803155",
      "status": "ok",
      "stderr": "",
      "stdout": "",
      "submitted": "2020-01-31T07:43:57.800063"
     },
     "output_type": "display_data"
    }
   ],
   "source": [
    "v.textify(x3[-1])"
   ]
  },
  {
   "cell_type": "code",
   "execution_count": 31,
   "metadata": {},
   "outputs": [
    {
     "data": {
      "text/plain": [
       "[output:0]"
      ]
     },
     "metadata": {},
     "output_type": "display_data"
    },
    {
     "data": {
      "text/html": [
       "<table border=\"1\" class=\"dataframe\">\n",
       "  <thead>\n",
       "    <tr style=\"text-align: right;\">\n",
       "      <th>idx</th>\n",
       "      <th>text</th>\n",
       "    </tr>\n",
       "  </thead>\n",
       "  <tbody>\n",
       "    <tr>\n",
       "      <td>0</td>\n",
       "      <td>thousand eighteen , eight thousand nineteen , eight thousand twenty , eight thousand twenty one , eight thousand twenty two , eight thousand twenty three , eight thousand twenty four , eight thousand twenty five , eight thousand twenty six , eight thousand twenty seven , eight thousand twenty eight , eight thousand twenty nine , eight thousand thirty , eight thousand thirty one , eight thousand thirty two ,</td>\n",
       "    </tr>\n",
       "    <tr>\n",
       "      <td>1</td>\n",
       "      <td>thirty two , eight thousand thirty three , eight thousand thirty four , eight thousand thirty five , eight thousand thirty six , eight thousand thirty seven , eight thousand thirty eight , eight thousand thirty nine , eight thousand forty , eight thousand forty one , eight thousand forty two , eight thousand forty three , eight thousand forty four , eight thousand forty five , eight thousand forty</td>\n",
       "    </tr>\n",
       "    <tr>\n",
       "      <td>2</td>\n",
       "      <td>thousand forty six , eight thousand forty seven , eight thousand forty eight , eight thousand forty nine , eight thousand fifty , eight thousand fifty one , eight thousand fifty two , eight thousand fifty three , eight thousand fifty four , eight thousand fifty five , eight thousand fifty six , eight thousand fifty seven , eight thousand fifty eight , eight thousand fifty nine , eight thousand</td>\n",
       "    </tr>\n",
       "    <tr>\n",
       "      <td>3</td>\n",
       "      <td>eight thousand sixty , eight thousand sixty one , eight thousand sixty two , eight thousand sixty three , eight thousand sixty four , eight thousand sixty five , eight thousand sixty six , eight thousand sixty seven , eight thousand sixty eight , eight thousand sixty nine , eight thousand seventy , eight thousand seventy one , eight thousand seventy two , eight thousand seventy three , eight thousand</td>\n",
       "    </tr>\n",
       "    <tr>\n",
       "      <td>4</td>\n",
       "      <td>eight thousand seventy four , eight thousand seventy five , eight thousand seventy six , eight thousand seventy seven , eight thousand seventy eight , eight thousand seventy nine , eight thousand eighty , eight thousand eighty one , eight thousand eighty two , eight thousand eighty three , eight thousand eighty four , eight thousand eighty five , eight thousand eighty six , eight thousand eighty seven , eight</td>\n",
       "    </tr>\n",
       "  </tbody>\n",
       "</table>"
      ],
      "text/plain": [
       "<IPython.core.display.HTML object>"
      ]
     },
     "metadata": {
      "engine": 0
     },
     "output_type": "display_data"
    }
   ],
   "source": [
    "data.show_batch(ds_type=DatasetType.Valid)"
   ]
  },
  {
   "cell_type": "markdown",
   "metadata": {},
   "source": [
    "## Single fully connected model"
   ]
  },
  {
   "cell_type": "code",
   "execution_count": 32,
   "metadata": {},
   "outputs": [],
   "source": [
    "data = src.databunch(bs=bs, bptt=3)"
   ]
  },
  {
   "cell_type": "code",
   "execution_count": 33,
   "metadata": {},
   "outputs": [
    {
     "data": {
      "text/plain": [
       "\u001b[0;31mOut[0:25]: \u001b[0m(torch.Size([64, 3]), torch.Size([64, 3]))"
      ]
     },
     "metadata": {
      "after": [],
      "completed": "2020-01-31T07:44:01.663556",
      "data": {},
      "engine_id": 0,
      "engine_uuid": "1fe93b75-4fb3254088ab048a48ba3dc5",
      "error": null,
      "execute_input": "x,y = data.one_batch()\nx.shape,y.shape\n",
      "execute_result": {
       "data": {
        "text/plain": "(torch.Size([64, 3]), torch.Size([64, 3]))"
       },
       "execution_count": 25,
       "metadata": {}
      },
      "follow": [],
      "msg_id": "0fce441e-cd679b40e462e1d3f089cc8d",
      "outputs": [],
      "received": "2020-01-31T07:44:01.667510",
      "started": "2020-01-31T07:44:01.652908",
      "status": "ok",
      "stderr": "",
      "stdout": "",
      "submitted": "2020-01-31T07:44:01.647647"
     },
     "output_type": "display_data"
    }
   ],
   "source": [
    "x,y = data.one_batch()\n",
    "x.shape,y.shape"
   ]
  },
  {
   "cell_type": "code",
   "execution_count": 34,
   "metadata": {},
   "outputs": [
    {
     "data": {
      "text/plain": [
       "\u001b[0;31mOut[0:26]: \u001b[0m40"
      ]
     },
     "metadata": {
      "after": [],
      "completed": "2020-01-31T07:44:14.268686",
      "data": {},
      "engine_id": 0,
      "engine_uuid": "1fe93b75-4fb3254088ab048a48ba3dc5",
      "error": null,
      "execute_input": "nv = len(v.itos); nv\n",
      "execute_result": {
       "data": {
        "text/plain": "40"
       },
       "execution_count": 26,
       "metadata": {}
      },
      "follow": [],
      "msg_id": "b0593f03-1672f1090c763919ff66a8d0",
      "outputs": [],
      "received": "2020-01-31T07:44:14.272338",
      "started": "2020-01-31T07:44:14.263081",
      "status": "ok",
      "stderr": "",
      "stdout": "",
      "submitted": "2020-01-31T07:44:14.259400"
     },
     "output_type": "display_data"
    }
   ],
   "source": [
    "nv = len(v.itos); nv"
   ]
  },
  {
   "cell_type": "code",
   "execution_count": 35,
   "metadata": {},
   "outputs": [],
   "source": [
    "nh=64"
   ]
  },
  {
   "cell_type": "code",
   "execution_count": 36,
   "metadata": {},
   "outputs": [],
   "source": [
    "def loss4(input,target): return F.cross_entropy(input, target[:,-1])\n",
    "def acc4 (input,target): return accuracy(input, target[:,-1])"
   ]
  },
  {
   "cell_type": "code",
   "execution_count": 37,
   "metadata": {},
   "outputs": [],
   "source": [
    "class Model0(nn.Module):\n",
    "    def __init__(self):\n",
    "        super().__init__()\n",
    "        self.i_h = nn.Embedding(nv,nh)  # green arrow\n",
    "        self.h_h = nn.Linear(nh,nh)     # brown arrow\n",
    "        self.h_o = nn.Linear(nh,nv)     # blue arrow\n",
    "        self.bn = nn.BatchNorm1d(nh)\n",
    "        \n",
    "    def forward(self, x):\n",
    "        h = self.bn(F.relu(self.h_h(self.i_h(x[:,0]))))\n",
    "        if x.shape[1]>1:\n",
    "            h = h + self.i_h(x[:,1])\n",
    "            h = self.bn(F.relu(self.h_h(h)))\n",
    "        if x.shape[1]>2:\n",
    "            h = h + self.i_h(x[:,2])\n",
    "            h = self.bn(F.relu(self.h_h(h)))\n",
    "        return self.h_o(h)"
   ]
  },
  {
   "cell_type": "code",
   "execution_count": 38,
   "metadata": {},
   "outputs": [],
   "source": [
    "learn = Learner(data, Model0(), loss_func=loss4, metrics=acc4)"
   ]
  },
  {
   "cell_type": "code",
   "execution_count": 39,
   "metadata": {},
   "outputs": [
    {
     "name": "stdout",
     "output_type": "stream",
     "text": [
      "epoch     train_loss  valid_loss  acc4      time    \n",
      "0         3.774806    3.665500    0.092844  00:00                                        \n",
      "1         3.462303    3.256816    0.287364  00:00                                        \n",
      "2         3.018615    2.863416    0.404438  00:00                                        \n",
      "3         2.680691    2.637917    0.433424  00:00                                        \n",
      "4         2.502801    2.556014    0.432971  00:00                                        \n",
      "5         2.440245    2.543663    0.434556  00:00                                        \n"
     ]
    }
   ],
   "source": [
    "learn.fit_one_cycle(6, 1e-4)"
   ]
  },
  {
   "cell_type": "markdown",
   "metadata": {},
   "source": [
    "## Same thing with a loop"
   ]
  },
  {
   "cell_type": "code",
   "execution_count": 40,
   "metadata": {},
   "outputs": [],
   "source": [
    "class Model1(nn.Module):\n",
    "    def __init__(self):\n",
    "        super().__init__()\n",
    "        self.i_h = nn.Embedding(nv,nh)  # green arrow\n",
    "        self.h_h = nn.Linear(nh,nh)     # brown arrow\n",
    "        self.h_o = nn.Linear(nh,nv)     # blue arrow\n",
    "        self.bn = nn.BatchNorm1d(nh)\n",
    "        \n",
    "    def forward(self, x):\n",
    "        h = torch.zeros(x.shape[0], nh).to(device=x.device)\n",
    "        for i in range(x.shape[1]):\n",
    "            h = h + self.i_h(x[:,i])\n",
    "            h = self.bn(F.relu(self.h_h(h)))\n",
    "        return self.h_o(h)"
   ]
  },
  {
   "cell_type": "code",
   "execution_count": 41,
   "metadata": {},
   "outputs": [],
   "source": [
    "learn = Learner(data, Model1(), loss_func=loss4, metrics=acc4)"
   ]
  },
  {
   "cell_type": "code",
   "execution_count": 42,
   "metadata": {},
   "outputs": [
    {
     "name": "stdout",
     "output_type": "stream",
     "text": [
      "epoch     train_loss  valid_loss  acc4      time    \n",
      "0         3.758703    3.691427    0.052536  00:00                                        \n",
      "1         3.421407    3.223214    0.206748  00:00                                        \n",
      "2         2.956229    2.799726    0.408967  00:00                                        \n",
      "3         2.612568    2.570048    0.443614  00:00                                        \n",
      "4         2.434925    2.485586    0.447237  00:00                                        \n",
      "5         2.373689    2.473126    0.447917  00:00                                        \n"
     ]
    }
   ],
   "source": [
    "learn.fit_one_cycle(6, 1e-4)"
   ]
  },
  {
   "cell_type": "markdown",
   "metadata": {},
   "source": [
    "## Multi fully connected model"
   ]
  },
  {
   "cell_type": "code",
   "execution_count": 43,
   "metadata": {},
   "outputs": [],
   "source": [
    "data = src.databunch(bs=bs, bptt=20)"
   ]
  },
  {
   "cell_type": "code",
   "execution_count": 44,
   "metadata": {},
   "outputs": [
    {
     "data": {
      "text/plain": [
       "\u001b[0;31mOut[0:36]: \u001b[0m(torch.Size([64, 20]), torch.Size([64, 20]))"
      ]
     },
     "metadata": {
      "after": [],
      "completed": "2020-01-31T07:44:39.228207",
      "data": {},
      "engine_id": 0,
      "engine_uuid": "1fe93b75-4fb3254088ab048a48ba3dc5",
      "error": null,
      "execute_input": "x,y = data.one_batch()\nx.shape,y.shape\n",
      "execute_result": {
       "data": {
        "text/plain": "(torch.Size([64, 20]), torch.Size([64, 20]))"
       },
       "execution_count": 36,
       "metadata": {}
      },
      "follow": [],
      "msg_id": "0a1e0ae2-f9bd02f05b6a291d0faea25d",
      "outputs": [],
      "received": "2020-01-31T07:44:39.230682",
      "started": "2020-01-31T07:44:39.217147",
      "status": "ok",
      "stderr": "",
      "stdout": "",
      "submitted": "2020-01-31T07:44:39.213381"
     },
     "output_type": "display_data"
    }
   ],
   "source": [
    "x,y = data.one_batch()\n",
    "x.shape,y.shape"
   ]
  },
  {
   "cell_type": "code",
   "execution_count": 45,
   "metadata": {},
   "outputs": [],
   "source": [
    "class Model2(nn.Module):\n",
    "    def __init__(self):\n",
    "        super().__init__()\n",
    "        self.i_h = nn.Embedding(nv,nh)\n",
    "        self.h_h = nn.Linear(nh,nh)\n",
    "        self.h_o = nn.Linear(nh,nv)\n",
    "        self.bn = nn.BatchNorm1d(nh)\n",
    "        \n",
    "    def forward(self, x):\n",
    "        h = torch.zeros(x.shape[0], nh).to(device=x.device)\n",
    "        res = []\n",
    "        for i in range(x.shape[1]):\n",
    "            h = h + self.i_h(x[:,i])\n",
    "            h = F.relu(self.h_h(h))\n",
    "            res.append(self.h_o(self.bn(h)))\n",
    "        return torch.stack(res, dim=1)"
   ]
  },
  {
   "cell_type": "code",
   "execution_count": 46,
   "metadata": {},
   "outputs": [],
   "source": [
    "learn = Learner(data, Model2(), metrics=accuracy)"
   ]
  },
  {
   "cell_type": "code",
   "execution_count": 47,
   "metadata": {},
   "outputs": [
    {
     "name": "stdout",
     "output_type": "stream",
     "text": [
      "epoch     train_loss  valid_loss  accuracy  time    \n",
      "0         3.858204    3.687515    0.029297  00:00                                         \n",
      "1         3.812659    3.611329    0.035872  00:00                                         \n",
      "2         3.754122    3.538536    0.045703  00:00                                         \n",
      "3         3.692020    3.475484    0.070312  00:00                                         \n",
      "4         3.631007    3.424283    0.087240  00:00                                         \n",
      "5         3.574345    3.386275    0.092318  00:00                                         \n",
      "6         3.524519    3.361432    0.114063  00:00                                         \n",
      "7         3.483077    3.347867    0.117122  00:00                                         \n",
      "8         3.450490    3.342597    0.118034  00:00                                         \n",
      "9         3.426121    3.341781    0.118099  00:00                                          \n"
     ]
    }
   ],
   "source": [
    "learn.fit_one_cycle(10, 1e-4, pct_start=0.1)"
   ]
  },
  {
   "cell_type": "markdown",
   "metadata": {},
   "source": [
    "## Maintain state"
   ]
  },
  {
   "cell_type": "code",
   "execution_count": 48,
   "metadata": {},
   "outputs": [],
   "source": [
    "class Model3(nn.Module):\n",
    "    def __init__(self):\n",
    "        super().__init__()\n",
    "        self.i_h = nn.Embedding(nv,nh)\n",
    "        self.h_h = nn.Linear(nh,nh)\n",
    "        self.h_o = nn.Linear(nh,nv)\n",
    "        self.bn = nn.BatchNorm1d(nh)\n",
    "        self.h = torch.zeros(bs, nh).cuda()\n",
    "        \n",
    "    def forward(self, x):\n",
    "        res = []\n",
    "        h = self.h\n",
    "        for i in range(x.shape[1]):\n",
    "            h = h + self.i_h(x[:,i])\n",
    "            h = F.relu(self.h_h(h))\n",
    "            res.append(self.bn(h))\n",
    "        self.h = h.detach()\n",
    "        res = torch.stack(res, dim=1)\n",
    "        res = self.h_o(res)\n",
    "        return res"
   ]
  },
  {
   "cell_type": "code",
   "execution_count": 49,
   "metadata": {},
   "outputs": [],
   "source": [
    "learn = Learner(data, Model3(), metrics=accuracy)"
   ]
  },
  {
   "cell_type": "code",
   "execution_count": 50,
   "metadata": {},
   "outputs": [
    {
     "name": "stdout",
     "output_type": "stream",
     "text": [
      "epoch     train_loss  valid_loss  accuracy  time    \n",
      "0         3.882783    3.836292    0.053385  00:00                                         \n",
      "1         3.714467    3.493464    0.125195  00:00                                         \n",
      "2         3.405393    2.902032    0.230534  00:00                                         \n",
      "3         2.970771    2.189735    0.406445  00:00                                         \n",
      "4         2.556883    2.064996    0.318164  00:00                                         \n",
      "5         2.253943    2.082781    0.316602  00:00                                         \n",
      "6         2.040581    2.115592    0.316146  00:00                                         \n",
      "7         1.886860    2.119180    0.319466  00:00                                         \n",
      "8         1.769891    2.054788    0.353125  00:00                                         \n",
      "9         1.676100    2.033432    0.399349  00:00                                          \n",
      "10        1.597509    2.028480    0.411458  00:00                                          \n",
      "11        1.531051    2.056787    0.413086  00:00                                          \n",
      "12        1.474316    2.080708    0.413737  00:00                                          \n",
      "13        1.425341    2.107302    0.417318  00:00                                          \n",
      "14        1.383077    2.077911    0.422656  00:00                                          \n",
      "15        1.346601    2.066591    0.428776  00:00                                          \n",
      "16        1.316194    2.059582    0.433333  00:00                                          \n",
      "17        1.291456    2.047579    0.436393  00:00                                          \n",
      "18        1.272090    2.056927    0.436133  00:00                                          \n",
      "19        1.257034    2.056584    0.436133  00:00                                          \n"
     ]
    }
   ],
   "source": [
    "learn.fit_one_cycle(20, 3e-3)"
   ]
  },
  {
   "cell_type": "markdown",
   "metadata": {},
   "source": [
    "## nn.RNN"
   ]
  },
  {
   "cell_type": "code",
   "execution_count": 51,
   "metadata": {},
   "outputs": [],
   "source": [
    "class Model4(nn.Module):\n",
    "    def __init__(self):\n",
    "        super().__init__()\n",
    "        self.i_h = nn.Embedding(nv,nh)\n",
    "        self.rnn = nn.RNN(nh,nh, batch_first=True)\n",
    "        self.h_o = nn.Linear(nh,nv)\n",
    "        self.bn = BatchNorm1dFlat(nh)\n",
    "        self.h = torch.zeros(1, bs, nh).cuda()\n",
    "        \n",
    "    def forward(self, x):\n",
    "        res,h = self.rnn(self.i_h(x), self.h)\n",
    "        self.h = h.detach()\n",
    "        return self.h_o(self.bn(res))"
   ]
  },
  {
   "cell_type": "code",
   "execution_count": 52,
   "metadata": {},
   "outputs": [],
   "source": [
    "learn = Learner(data, Model4(), metrics=accuracy)"
   ]
  },
  {
   "cell_type": "code",
   "execution_count": 53,
   "metadata": {},
   "outputs": [
    {
     "name": "stdout",
     "output_type": "stream",
     "text": [
      "epoch     train_loss  valid_loss  accuracy  time    \n",
      "0         3.758616    3.613478    0.012435  00:00                                         \n",
      "1         3.500630    3.048081    0.348698  00:00                                         \n",
      "2         3.083210    2.251133    0.457682  00:00                                         \n",
      "3         2.658812    2.055802    0.462370  00:00                                         \n",
      "4         2.332969    2.108472    0.317513  00:00                                         \n",
      "5         2.101010    2.160476    0.315039  00:00                                         \n",
      "6         1.935602    2.196824    0.316276  00:00                                         \n",
      "7         1.815481    2.226831    0.315885  00:00                                         \n",
      "8         1.724959    2.217088    0.317708  00:00                                         \n",
      "9         1.649180    1.988430    0.351367  00:00                                          \n",
      "10        1.583829    1.903864    0.410547  00:00                                          \n",
      "11        1.522457    1.832406    0.438737  00:00                                          \n",
      "12        1.462663    1.772140    0.451693  00:00                                          \n",
      "13        1.405458    1.712186    0.469922  00:00                                          \n",
      "14        1.352082    1.691671    0.470964  00:00                                          \n",
      "15        1.305239    1.677137    0.482682  00:00                                          \n",
      "16        1.265764    1.677533    0.480273  00:00                                          \n",
      "17        1.233324    1.678786    0.481771  00:00                                          \n",
      "18        1.207687    1.687386    0.472266  00:00                                          \n",
      "19        1.187937    1.684102    0.473503  00:00                                          \n"
     ]
    }
   ],
   "source": [
    "learn.fit_one_cycle(20, 3e-3)"
   ]
  },
  {
   "cell_type": "markdown",
   "metadata": {},
   "source": [
    "## 2-layer GRU"
   ]
  },
  {
   "cell_type": "code",
   "execution_count": 54,
   "metadata": {},
   "outputs": [],
   "source": [
    "class Model5(nn.Module):\n",
    "    def __init__(self):\n",
    "        super().__init__()\n",
    "        self.i_h = nn.Embedding(nv,nh)\n",
    "        self.rnn = nn.GRU(nh, nh, 2, batch_first=True)\n",
    "        self.h_o = nn.Linear(nh,nv)\n",
    "        self.bn = BatchNorm1dFlat(nh)\n",
    "        self.h = torch.zeros(2, bs, nh).cuda()\n",
    "        \n",
    "    def forward(self, x):\n",
    "        res,h = self.rnn(self.i_h(x), self.h)\n",
    "        self.h = h.detach()\n",
    "        return self.h_o(self.bn(res))"
   ]
  },
  {
   "cell_type": "code",
   "execution_count": 55,
   "metadata": {},
   "outputs": [],
   "source": [
    "learn = Learner(data, Model5(), metrics=accuracy)"
   ]
  },
  {
   "cell_type": "code",
   "execution_count": 56,
   "metadata": {},
   "outputs": [
    {
     "name": "stdout",
     "output_type": "stream",
     "text": [
      "epoch     train_loss  valid_loss  accuracy  time    \n",
      "0         3.370053    3.395743    0.389648  00:00                                         \n",
      "1         2.613388    2.065595    0.477148  00:00                                         \n",
      "2         2.003375    1.606392    0.557617  00:00                                         \n",
      "3         1.523717    1.373229    0.672917  00:00                                         \n",
      "4         1.143474    1.226494    0.751042  00:00                                         \n",
      "5         0.865110    1.075886    0.772201  00:00                                         \n",
      "6         0.662563    1.117133    0.779753  00:00                                         \n",
      "7         0.516041    1.090799    0.780599  00:00                                         \n",
      "8         0.408326    1.092041    0.771745  00:00                                         \n",
      "9         0.329717    1.084419    0.773242  00:00                                          \n"
     ]
    }
   ],
   "source": [
    "learn.fit_one_cycle(10, 1e-2)"
   ]
  },
  {
   "cell_type": "markdown",
   "metadata": {},
   "source": [
    "## fin"
   ]
  },
  {
   "cell_type": "code",
   "execution_count": null,
   "metadata": {},
   "outputs": [],
   "source": []
  }
 ],
 "metadata": {
  "kernelspec": {
   "display_name": "Python 3",
   "language": "python",
   "name": "python3"
  },
  "language_info": {
   "codemirror_mode": {
    "name": "ipython",
    "version": 3
   },
   "file_extension": ".py",
   "mimetype": "text/x-python",
   "name": "python",
   "nbconvert_exporter": "python",
   "pygments_lexer": "ipython3",
   "version": "3.7.4"
  }
 },
 "nbformat": 4,
 "nbformat_minor": 2
}
