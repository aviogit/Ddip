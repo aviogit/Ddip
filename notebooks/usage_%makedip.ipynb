{
 "cells": [
  {
   "cell_type": "markdown",
   "metadata": {},
   "source": [
    "## Ddip User Guide \n",
    "### `%makedip`  -- create, start, stop, restart a Distributed Data Parallel process group\n",
    "\n",
    "**Note: For illustration purpose, in this notebook `%makedip` was run with `--verbose True`. The configuration is single host with 3 CUDA GPUs, running Ubuntu linux.**"
   ]
  },
  {
   "cell_type": "raw",
   "metadata": {},
   "source": [
    "  %makedip [-g GPUS [GPUS ...]] [-a APPNAME] [-r] [-k] [-i]\n",
    "               [-v [{True,False}]]\n",
    "\n",
    "%makedip -- Setup/tear down the cluster, a DDP training group on top of it, and an app client to the DDP. \n",
    "\n",
    "optional arguments:\n",
    "  -g <GPUS [GPUS ...]>, --gpus <GPUS [GPUS ...]>\n",
    "                        list of GPU ids to form the DDP group. Use 'all' to\n",
    "                        specify all available GPUS.\n",
    "  -a APPNAME, --app APPNAME\n",
    "  -r, --restart         Restart the ipyparallel cluster.\n",
    "  -k, --kill            Kill the ipyparallel cluster.\n",
    "  -i, --info            Show current configuration info.\n",
    "  -v <[{True,False}]>, --verbose <[{True,False}]>\n",
    "                        print a message at each execution.\n",
    "File:      /usr/local/lib/python3.7/dist-packages/Ddip/magics.py"
   ]
  },
  {
   "cell_type": "code",
   "execution_count": 1,
   "metadata": {},
   "outputs": [],
   "source": [
    "%load_ext Ddip"
   ]
  },
  {
   "cell_type": "markdown",
   "metadata": {},
   "source": [
    "**Create a DDP group with all the available GPUs, and initialize the `fastai v1` module**"
   ]
  },
  {
   "cell_type": "code",
   "execution_count": 17,
   "metadata": {},
   "outputs": [
    {
     "name": "stdout",
     "output_type": "stream",
     "text": [
      "Waiting for connection file: ~/.ipython/profile_default/security/ipcontroller-ippdpp_c-client.json\n"
     ]
    },
    {
     "name": "stderr",
     "output_type": "stream",
     "text": [
      "Proc [13434] Connecting to ipyparallel cluster......."
     ]
    },
    {
     "name": "stdout",
     "output_type": "stream",
     "text": [
      "Proc [13434] Initializing torch distributed group with GPUs [0, 1, 2]\n",
      "Proc [13434] Local Ranks initialized:  ['GPU0=0', 'GPU1=1', 'GPU2=2']\n",
      "Proc [13434] Importing on cluster: ['import fastai, fastai.torch_core, torch, fastprogress', 'from fastai.distributed import *', 'from Ddip.fastai_v1 import initializer, finalizer, set_verbose, lr_find_bypass']\n",
      "Proc [13434]\n",
      "fastai_v1:\n",
      "[Process 13492] Rank 0 fastai initialized for distributed data parallel.\n",
      "[Process 13496] Rank 1 fastai initialized for distributed data parallel.\n",
      "[Process 13497] Rank 2 fastai initialized for distributed data parallel.\n"
     ]
    }
   ],
   "source": [
    "%makedip -g all -a fastai_v1 --verbose True"
   ]
  },
  {
   "cell_type": "markdown",
   "metadata": {},
   "source": [
    "**To see info on the created DDP group, use -i**"
   ]
  },
  {
   "cell_type": "code",
   "execution_count": 18,
   "metadata": {},
   "outputs": [
    {
     "name": "stdout",
     "output_type": "stream",
     "text": [
      "Cluster processes:cluster pid: 13466, engine pids: [13492, 13496, 13497]\n",
      "DDP group: ['Rank 0: GPU0', 'Rank 1: GPU1', 'Rank 2: GPU2']\n",
      "DDP application: Ddip.fastai_v1\n",
      "Automatic DDP execution: Off\n"
     ]
    }
   ],
   "source": [
    "%makedip -i"
   ]
  },
  {
   "cell_type": "markdown",
   "metadata": {},
   "source": [
    "\n",
    "**Kill the DDP group processes**"
   ]
  },
  {
   "cell_type": "code",
   "execution_count": 19,
   "metadata": {},
   "outputs": [
    {
     "name": "stdout",
     "output_type": "stream",
     "text": [
      "Proc [13434] DDP.exit_group(): [0, 1, 2]\n",
      "Proc [13434] Terminating ipcluster process [13466] with by 'ipcluster stop', just a few seconds ....\n",
      "Proc [13434] no running ipcluster process.\n"
     ]
    }
   ],
   "source": [
    "%makedip -k"
   ]
  },
  {
   "cell_type": "markdown",
   "metadata": {},
   "source": [
    "\n",
    "**Create a new DDP group, with only GPU 0 and 1**"
   ]
  },
  {
   "cell_type": "code",
   "execution_count": 20,
   "metadata": {},
   "outputs": [
    {
     "name": "stdout",
     "output_type": "stream",
     "text": [
      "Waiting for connection file: ~/.ipython/profile_default/security/ipcontroller-ippdpp_c-client.json\n"
     ]
    },
    {
     "name": "stderr",
     "output_type": "stream",
     "text": [
      "Proc [13434] Connecting to ipyparallel cluster......."
     ]
    },
    {
     "name": "stdout",
     "output_type": "stream",
     "text": [
      "Proc [13434] Initializing torch distributed group with GPUs [0, 1]\n",
      "Proc [13434] Local Ranks initialized:  ['GPU0=0', 'GPU1=1']\n",
      "Proc [13434] Importing on cluster: ['import fastai, fastai.torch_core, torch, fastprogress', 'from fastai.distributed import *', 'from Ddip.fastai_v1 import initializer, finalizer, set_verbose, lr_find_bypass']\n",
      "Proc [13434]\n",
      "fastai_v1:\n",
      "[Process 13584] Rank 0 fastai initialized for distributed data parallel.\n",
      "[Process 13586] Rank 1 fastai initialized for distributed data parallel.\n"
     ]
    }
   ],
   "source": [
    "%makedip -g 0,1 -a fastai_v1"
   ]
  },
  {
   "cell_type": "markdown",
   "metadata": {},
   "source": [
    "To **Restart and create a new DDP with all the GPUs in one go**:"
   ]
  },
  {
   "cell_type": "code",
   "execution_count": 22,
   "metadata": {},
   "outputs": [
    {
     "name": "stdout",
     "output_type": "stream",
     "text": [
      "Waiting for connection file: ~/.ipython/profile_default/security/ipcontroller-ippdpp_c-client.json\n"
     ]
    },
    {
     "name": "stderr",
     "output_type": "stream",
     "text": [
      "Proc [13434] Connecting to ipyparallel cluster......."
     ]
    },
    {
     "name": "stdout",
     "output_type": "stream",
     "text": [
      "Proc [13434] Initializing torch distributed group with GPUs [0, 1, 2]\n",
      "Proc [13434] Local Ranks initialized:  ['GPU0=0', 'GPU1=1', 'GPU2=2']\n",
      "Proc [13434] Importing on cluster: ['import fastai, fastai.torch_core, torch, fastprogress', 'from fastai.distributed import *', 'from Ddip.fastai_v1 import initializer, finalizer, set_verbose, lr_find_bypass']\n",
      "Proc [13434]\n",
      "fastai_v1:\n",
      "[Process 13677] Rank 0 fastai initialized for distributed data parallel.\n",
      "[Process 13679] Rank 1 fastai initialized for distributed data parallel.\n",
      "[Process 13681] Rank 2 fastai initialized for distributed data parallel.\n"
     ]
    }
   ],
   "source": [
    "%makedip -r -g all -a fastai_v1"
   ]
  },
  {
   "cell_type": "code",
   "execution_count": null,
   "metadata": {},
   "outputs": [],
   "source": []
  }
 ],
 "metadata": {
  "kernelspec": {
   "display_name": "Python 3",
   "language": "python",
   "name": "python3"
  },
  "language_info": {
   "codemirror_mode": {
    "name": "ipython",
    "version": 3
   },
   "file_extension": ".py",
   "mimetype": "text/x-python",
   "name": "python",
   "nbconvert_exporter": "python",
   "pygments_lexer": "ipython3",
   "version": "3.7.4"
  }
 },
 "nbformat": 4,
 "nbformat_minor": 2
}
