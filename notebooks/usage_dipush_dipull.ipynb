{
 "cells": [
  {
   "cell_type": "markdown",
   "metadata": {},
   "source": [
    "## Ddip User Guide "
   ]
  },
  {
   "cell_type": "markdown",
   "metadata": {},
   "source": [
    "### The Two Approaches to making objects available in local and remote processes by the same names:\n",
    "\n",
    "**1. Create in one namespace, then `%dipush` to, or `%dipull` from the other.**\n",
    "\n",
    "**2. Create the object simultaneously in both local and DDP processes, with `%%dip everwhere` cell magic**, i.e. *code once, runs everywhere*\n",
    "\n",
    "NOTE: Since `Ddip` uses `ipyparallel` as the underlying fabric of multiple processes, `ipyparallel`'s family of line and cell magics for parallel computing are also accessible, when `Ddip` extension is loaded.  `Ddip`'s purpose is to provide a narrow interface good enough to run Distributed Data Parallel training applications.  For those who wish to know more about `ipyparallel`, here is [The `ipyparallel` official documentation](https://ipyparallel.readthedocs.io/en/latest/intro.html).\n",
    "\n",
    "### From local to DDP:\n",
    "\n",
    "#### By default a cell runs in local notebook namespace, unless it begins with the cell magic `%%dip`. \n",
    "Any objects created here, are not visible in the remote processes."
   ]
  },
  {
   "cell_type": "code",
   "execution_count": 1,
   "metadata": {},
   "outputs": [
    {
     "name": "stdout",
     "output_type": "stream",
     "text": [
      "Waiting for connection file: ~/.ipython/profile_default/security/ipcontroller-ippdpp_c-client.json\n"
     ]
    }
   ],
   "source": [
    "%load_ext Ddip\n",
    "%makedip -r -g all --verbose False"
   ]
  },
  {
   "cell_type": "code",
   "execution_count": 2,
   "metadata": {},
   "outputs": [],
   "source": [
    "%%dip everywhere\n",
    "import os # For convenience"
   ]
  },
  {
   "cell_type": "code",
   "execution_count": 4,
   "metadata": {},
   "outputs": [
    {
     "name": "stdout",
     "output_type": "stream",
     "text": [
      "Process [16359] variable is :{1: 'foo', 2: 'bar'}\n"
     ]
    }
   ],
   "source": [
    "foobar = { 1 : \"foo\", 2 : \"bar\" }\n",
    "def var_printer(f): print(f\"Process [{os.getpid()}] variable is :{f}\")\n",
    "\n",
    "var_printer(foobar)"
   ]
  },
  {
   "cell_type": "markdown",
   "metadata": {},
   "source": [
    "**`foobar` and `var_printer` are not visible in the DDP remote processes, unless we `%dipush` them over:**"
   ]
  },
  {
   "cell_type": "code",
   "execution_count": 5,
   "metadata": {},
   "outputs": [
    {
     "ename": "RemoteError",
     "evalue": "NameError(name 'foobar' is not defined)",
     "output_type": "error",
     "traceback": [
      "\u001b[0;31m---------------------------------------------------------------------------\u001b[0m\u001b[0;31mNameError\u001b[0m                                 Traceback (most recent call last)\u001b[0;32m<ipython-input-2-32bb31b98a85>\u001b[0m in \u001b[0;36m<module>\u001b[0;34m\u001b[0m",
      "\u001b[0;32m----> 1\u001b[0;31m \u001b[0mfoobar\u001b[0m\u001b[0;34m,\u001b[0m \u001b[0mvar_printer\u001b[0m\u001b[0;34m\u001b[0m\u001b[0;34m\u001b[0m\u001b[0m",
      "\u001b[0m\u001b[0;31mNameError\u001b[0m: name 'foobar' is not defined"
     ]
    }
   ],
   "source": [
    "%%dip\n",
    "foobar, var_printer"
   ]
  },
  {
   "cell_type": "code",
   "execution_count": 6,
   "metadata": {},
   "outputs": [],
   "source": [
    "%dipush?"
   ]
  },
  {
   "cell_type": "raw",
   "metadata": {},
   "source": [
    "  %dipush push_vars [push_vars ...]\n",
    "\n",
    "positional arguments:\n",
    "  push_vars  Push a list of variables from local ipython/notebook namespace to\n",
    "             the DDP group processes."
   ]
  },
  {
   "cell_type": "code",
   "execution_count": 7,
   "metadata": {},
   "outputs": [],
   "source": [
    "%dipush foobar var_printer"
   ]
  },
  {
   "cell_type": "code",
   "execution_count": 8,
   "metadata": {},
   "outputs": [
    {
     "name": "stdout",
     "output_type": "stream",
     "text": [
      "Process [16413] variable is :{1: 'foo', 2: 'bar'}\n",
      "Process [16417] variable is :{1: 'foo', 2: 'bar'}\n",
      "Process [16418] variable is :{1: 'foo', 2: 'bar'}\n"
     ]
    }
   ],
   "source": [
    "%%dip --see all\n",
    "# Use `--see all` to see the outputs from all DDP processes\n",
    "var_printer(foobar)"
   ]
  },
  {
   "cell_type": "markdown",
   "metadata": {},
   "source": [
    "### From remote DDP processes to local:\n",
    "\n",
    "**Now in reverse, create something remotely.  They are not visible until we `%dipull` them:**\n"
   ]
  },
  {
   "cell_type": "code",
   "execution_count": 20,
   "metadata": {},
   "outputs": [
    {
     "name": "stdout",
     "output_type": "stream",
     "text": [
      "Process [16413]: remote_pid is 16413\n",
      "Process [16417]: remote_pid is 16417\n",
      "Process [16418]: remote_pid is 16418\n"
     ]
    }
   ],
   "source": [
    "%%dip --see all\n",
    "remote_pid = os.getpid()\n",
    "print(f\"Process [{os.getpid()}]: remote_pid is {remote_pid}\")"
   ]
  },
  {
   "cell_type": "code",
   "execution_count": 22,
   "metadata": {},
   "outputs": [
    {
     "ename": "NameError",
     "evalue": "name 'remote_pid' is not defined",
     "output_type": "error",
     "traceback": [
      "\u001b[0;31m---------------------------------------------------------------------------\u001b[0m",
      "\u001b[0;31mNameError\u001b[0m                                 Traceback (most recent call last)",
      "\u001b[0;32m<ipython-input-22-b8821b229852>\u001b[0m in \u001b[0;36m<module>\u001b[0;34m\u001b[0m\n\u001b[0;32m----> 1\u001b[0;31m \u001b[0mremote_pid\u001b[0m\u001b[0;34m\u001b[0m\u001b[0;34m\u001b[0m\u001b[0m\n\u001b[0m",
      "\u001b[0;31mNameError\u001b[0m: name 'remote_pid' is not defined"
     ]
    }
   ],
   "source": [
    "remote_pid"
   ]
  },
  {
   "cell_type": "markdown",
   "metadata": {},
   "source": [
    "**`%dipull` by default pulls in the object from RANK 0 process**"
   ]
  },
  {
   "cell_type": "code",
   "execution_count": 23,
   "metadata": {},
   "outputs": [
    {
     "name": "stdout",
     "output_type": "stream",
     "text": [
      "Process [16359]: remote_pid is 16413\n"
     ]
    }
   ],
   "source": [
    "%dipull remote_pid\n",
    "print(f\"Process [{os.getpid()}]: remote_pid is {remote_pid}\")"
   ]
  },
  {
   "cell_type": "code",
   "execution_count": 24,
   "metadata": {},
   "outputs": [
    {
     "name": "stdout",
     "output_type": "stream",
     "text": [
      "Process [16359]: remote_pid is 16417\n"
     ]
    }
   ],
   "source": [
    "%dipull -r 1 remote_pid\n",
    "print(f\"Process [{os.getpid()}]: remote_pid is {remote_pid}\")"
   ]
  },
  {
   "cell_type": "markdown",
   "metadata": {},
   "source": [
    "### The second way of making objects available in both remote and local processes by name, is to create copies of them in all processes simultaneously.\n",
    "\n",
    "**This is done with `%%dip everywhere` cell magic.  It is particularly useful to import libraries in both local and remote processes, in one shot.**\n",
    "\n",
    "**Obviously the value of object X can be different from process to process, and this trick is mostly a syntatic sugar to disseminate identical piece of code and objects with the same name everywhere.*"
   ]
  },
  {
   "cell_type": "code",
   "execution_count": 28,
   "metadata": {},
   "outputs": [
    {
     "data": {
      "text/plain": [
       "['Different pid: 16359', 2, ['a', 'list'], {'and': 'a dict'}]"
      ]
     },
     "execution_count": 28,
     "metadata": {},
     "output_type": "execute_result"
    },
    {
     "data": {
      "text/plain": [
       "\u001b[0;31mOut[0:10]: \u001b[0m['Different pid: 16413', 2, ['a', 'list'], {'and': 'a dict'}]"
      ]
     },
     "metadata": {
      "after": [],
      "completed": "2020-01-30T14:07:10.050553",
      "data": {},
      "engine_id": 0,
      "engine_uuid": "7e6e1b1c-ab2e043949bd99f394e75361",
      "error": null,
      "execute_input": "x = [ f\"Different pid: {os.getpid()}\", 2, [\"a\", \"list\"], {\"and\": \"a dict\"}]\nx\n",
      "execute_result": {
       "data": {
        "text/plain": "['Different pid: 16413', 2, ['a', 'list'], {'and': 'a dict'}]"
       },
       "execution_count": 10,
       "metadata": {}
      },
      "follow": [],
      "msg_id": "4f76a80a-a39bbe8d98cb64ba4dbfadcc",
      "outputs": [],
      "received": "2020-01-30T14:07:10.054017",
      "started": "2020-01-30T14:07:10.046435",
      "status": "ok",
      "stderr": "",
      "stdout": "",
      "submitted": "2020-01-30T14:07:10.044061"
     },
     "output_type": "display_data"
    },
    {
     "data": {
      "text/plain": [
       "\u001b[0;31mOut[1:10]: \u001b[0m['Different pid: 16417', 2, ['a', 'list'], {'and': 'a dict'}]"
      ]
     },
     "metadata": {
      "after": [],
      "completed": "2020-01-30T14:07:10.050823",
      "data": {},
      "engine_id": 1,
      "engine_uuid": "d9de24e6-9f1e6e481f2b28e15644aef1",
      "error": null,
      "execute_input": "x = [ f\"Different pid: {os.getpid()}\", 2, [\"a\", \"list\"], {\"and\": \"a dict\"}]\nx\n",
      "execute_result": {
       "data": {
        "text/plain": "['Different pid: 16417', 2, ['a', 'list'], {'and': 'a dict'}]"
       },
       "execution_count": 10,
       "metadata": {}
      },
      "follow": [],
      "msg_id": "afff29c5-4886e4547d2d7f145dd83f19",
      "outputs": [],
      "received": "2020-01-30T14:07:10.056088",
      "started": "2020-01-30T14:07:10.047070",
      "status": "ok",
      "stderr": "",
      "stdout": "",
      "submitted": "2020-01-30T14:07:10.044464"
     },
     "output_type": "display_data"
    },
    {
     "data": {
      "text/plain": [
       "\u001b[0;31mOut[2:10]: \u001b[0m['Different pid: 16418', 2, ['a', 'list'], {'and': 'a dict'}]"
      ]
     },
     "metadata": {
      "after": [],
      "completed": "2020-01-30T14:07:10.050754",
      "data": {},
      "engine_id": 2,
      "engine_uuid": "340967fd-621f88c681790b1755564eae",
      "error": null,
      "execute_input": "x = [ f\"Different pid: {os.getpid()}\", 2, [\"a\", \"list\"], {\"and\": \"a dict\"}]\nx\n",
      "execute_result": {
       "data": {
        "text/plain": "['Different pid: 16418', 2, ['a', 'list'], {'and': 'a dict'}]"
       },
       "execution_count": 10,
       "metadata": {}
      },
      "follow": [],
      "msg_id": "2f3c616d-4aa8afbd1054cac55922d0f2",
      "outputs": [],
      "received": "2020-01-30T14:07:10.055056",
      "started": "2020-01-30T14:07:10.046646",
      "status": "ok",
      "stderr": "",
      "stdout": "",
      "submitted": "2020-01-30T14:07:10.044632"
     },
     "output_type": "display_data"
    }
   ],
   "source": [
    "%%dip everywhere --see all\n",
    "x = [ f\"Different pid: {os.getpid()}\", 2, [\"a\", \"list\"], {\"and\": \"a dict\"}]\n",
    "x"
   ]
  }
 ],
 "metadata": {
  "kernelspec": {
   "display_name": "Python 3",
   "language": "python",
   "name": "python3"
  },
  "language_info": {
   "codemirror_mode": {
    "name": "ipython",
    "version": 3
   },
   "file_extension": ".py",
   "mimetype": "text/x-python",
   "name": "python",
   "nbconvert_exporter": "python",
   "pygments_lexer": "ipython3",
   "version": "3.7.4"
  }
 },
 "nbformat": 4,
 "nbformat_minor": 2
}
