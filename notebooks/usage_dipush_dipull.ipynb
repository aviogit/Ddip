{
 "cells": [
  {
   "cell_type": "markdown",
   "metadata": {},
   "source": [
    "## Ddip User Guide \n",
    "### `%dipush` and `%dipull` --- Pass objects between local notebook and DDP processes"
   ]
  },
  {
   "cell_type": "code",
   "execution_count": 1,
   "metadata": {},
   "outputs": [
    {
     "name": "stdout",
     "output_type": "stream",
     "text": [
      "Waiting for connection file: ~/.ipython/profile_default/security/ipcontroller-ippdpp_c-client.json\n"
     ]
    }
   ],
   "source": [
    "%load_ext Ddip\n",
    "%makedip -r -g all --verbose False"
   ]
  },
  {
   "cell_type": "code",
   "execution_count": 2,
   "metadata": {},
   "outputs": [],
   "source": [
    "%%dip everywhere\n",
    "import os # For convenience"
   ]
  },
  {
   "cell_type": "markdown",
   "metadata": {},
   "source": [
    "\n",
    "After creating a 'remote' pool of process for DDP, we are still in local notebook namespace.\n",
    "Two ways to get variables over to from local to remote:\n",
    "\n",
    "1. Create locally, then %dipush.\n",
    "\n",
    "2. Create simultaneously with %%dip everywhere\n",
    "\n",
    "**The first way first:**\n"
   ]
  },
  {
   "cell_type": "code",
   "execution_count": 3,
   "metadata": {},
   "outputs": [],
   "source": [
    "foobar = { 1 : \"foo\", 2 : \"bar\" }\n",
    "%dipush foobar"
   ]
  },
  {
   "cell_type": "code",
   "execution_count": 4,
   "metadata": {},
   "outputs": [
    {
     "name": "stdout",
     "output_type": "stream",
     "text": [
      "Process [13980] foobar is :{1: 'foo', 2: 'bar'}\n",
      "Process [14034] foobar is :{1: 'foo', 2: 'bar'}\n",
      "Process [14038] foobar is :{1: 'foo', 2: 'bar'}\n",
      "Process [14041] foobar is :{1: 'foo', 2: 'bar'}\n"
     ]
    }
   ],
   "source": [
    "%%dip everywhere --see all\n",
    "print(f\"Process [{os.getpid()}] foobar is :{foobar}\")"
   ]
  },
  {
   "cell_type": "markdown",
   "metadata": {},
   "source": [
    "**The second way:**"
   ]
  },
  {
   "cell_type": "code",
   "execution_count": 5,
   "metadata": {},
   "outputs": [],
   "source": [
    "%%dip everywhere\n",
    "x = [ \"Different things\", 2, [\"a\", \"list\"], {\"and\": \"a dict\"}]"
   ]
  },
  {
   "cell_type": "code",
   "execution_count": 6,
   "metadata": {},
   "outputs": [
    {
     "data": {
      "text/plain": [
       "['Different things', 2, ['a', 'list'], {'and': 'a dict'}]"
      ]
     },
     "execution_count": 6,
     "metadata": {},
     "output_type": "execute_result"
    }
   ],
   "source": [
    "# Back in local notebook namespace:\n",
    "x"
   ]
  },
  {
   "cell_type": "code",
   "execution_count": 7,
   "metadata": {},
   "outputs": [
    {
     "data": {
      "text/plain": [
       "\u001b[0;31mOut[0:4]: \u001b[0m['Different things', 2, ['a', 'list'], {'and': 'a dict'}]"
      ]
     },
     "metadata": {
      "after": [],
      "completed": "2020-01-30T09:54:40.445396",
      "data": {},
      "engine_id": 0,
      "engine_uuid": "7c69bfc5-e3e5e6c33264291dde9e6f92",
      "error": null,
      "execute_input": "\n# and in remote DDP namespace:\nx\n",
      "execute_result": {
       "data": {
        "text/plain": "['Different things', 2, ['a', 'list'], {'and': 'a dict'}]"
       },
       "execution_count": 4,
       "metadata": {}
      },
      "follow": [],
      "msg_id": "41276bec-ae1c277d85f752b5ac6afd9a",
      "outputs": [],
      "received": "2020-01-30T09:54:40.449706",
      "started": "2020-01-30T09:54:40.440141",
      "status": "ok",
      "stderr": "",
      "stdout": "",
      "submitted": "2020-01-30T09:54:40.437492"
     },
     "output_type": "display_data"
    },
    {
     "data": {
      "text/plain": [
       "\u001b[0;31mOut[1:4]: \u001b[0m['Different things', 2, ['a', 'list'], {'and': 'a dict'}]"
      ]
     },
     "metadata": {
      "after": [],
      "completed": "2020-01-30T09:54:40.451310",
      "data": {},
      "engine_id": 1,
      "engine_uuid": "cc3376be-4922930a2e435e62e36e132c",
      "error": null,
      "execute_input": "\n# and in remote DDP namespace:\nx\n",
      "execute_result": {
       "data": {
        "text/plain": "['Different things', 2, ['a', 'list'], {'and': 'a dict'}]"
       },
       "execution_count": 4,
       "metadata": {}
      },
      "follow": [],
      "msg_id": "b0b6803e-0a3d7b72c1ef1435750f6af7",
      "outputs": [],
      "received": "2020-01-30T09:54:40.454186",
      "started": "2020-01-30T09:54:40.442486",
      "status": "ok",
      "stderr": "",
      "stdout": "",
      "submitted": "2020-01-30T09:54:40.438738"
     },
     "output_type": "display_data"
    },
    {
     "data": {
      "text/plain": [
       "\u001b[0;31mOut[2:4]: \u001b[0m['Different things', 2, ['a', 'list'], {'and': 'a dict'}]"
      ]
     },
     "metadata": {
      "after": [],
      "completed": "2020-01-30T09:54:40.447686",
      "data": {},
      "engine_id": 2,
      "engine_uuid": "ffbd62c0-bc0b95e9302f695529c11fa8",
      "error": null,
      "execute_input": "\n# and in remote DDP namespace:\nx\n",
      "execute_result": {
       "data": {
        "text/plain": "['Different things', 2, ['a', 'list'], {'and': 'a dict'}]"
       },
       "execution_count": 4,
       "metadata": {}
      },
      "follow": [],
      "msg_id": "8ebed3d4-25671a094c603e7e7611c188",
      "outputs": [],
      "received": "2020-01-30T09:54:40.451740",
      "started": "2020-01-30T09:54:40.442245",
      "status": "ok",
      "stderr": "",
      "stdout": "",
      "submitted": "2020-01-30T09:54:40.439052"
     },
     "output_type": "display_data"
    }
   ],
   "source": [
    "%%dip --see all\n",
    "\n",
    "# and in remote DDP namespace:\n",
    "x"
   ]
  },
  {
   "cell_type": "markdown",
   "metadata": {},
   "source": [
    "\n",
    "Create something remotely, then pull back from rank-0 process with `%dipull`"
   ]
  },
  {
   "cell_type": "code",
   "execution_count": 8,
   "metadata": {},
   "outputs": [],
   "source": [
    "%%dip\n",
    "remote_x = \"I am created remotely\""
   ]
  },
  {
   "cell_type": "code",
   "execution_count": 9,
   "metadata": {},
   "outputs": [
    {
     "ename": "NameError",
     "evalue": "name 'remote_x' is not defined",
     "output_type": "error",
     "traceback": [
      "\u001b[0;31m---------------------------------------------------------------------------\u001b[0m",
      "\u001b[0;31mNameError\u001b[0m                                 Traceback (most recent call last)",
      "\u001b[0;32m<ipython-input-9-d1b17d568e83>\u001b[0m in \u001b[0;36m<module>\u001b[0;34m\u001b[0m\n\u001b[1;32m      1\u001b[0m \u001b[0;31m# Won't see it yet:\u001b[0m\u001b[0;34m\u001b[0m\u001b[0;34m\u001b[0m\u001b[0;34m\u001b[0m\u001b[0m\n\u001b[0;32m----> 2\u001b[0;31m \u001b[0mremote_x\u001b[0m\u001b[0;34m\u001b[0m\u001b[0;34m\u001b[0m\u001b[0m\n\u001b[0m",
      "\u001b[0;31mNameError\u001b[0m: name 'remote_x' is not defined"
     ]
    }
   ],
   "source": [
    "# Won't see it yet:\n",
    "remote_x"
   ]
  },
  {
   "cell_type": "markdown",
   "metadata": {},
   "source": [
    "Notice the process ID below verifies it is the local process,"
   ]
  },
  {
   "cell_type": "code",
   "execution_count": 10,
   "metadata": {},
   "outputs": [
    {
     "name": "stdout",
     "output_type": "stream",
     "text": [
      "Process [13980] remote_x is :I am created remotely\n"
     ]
    }
   ],
   "source": [
    "%dipull remote_x\n",
    "print(f\"Process [{os.getpid()}] remote_x is :{remote_x}\")"
   ]
  },
  {
   "cell_type": "code",
   "execution_count": null,
   "metadata": {},
   "outputs": [],
   "source": []
  }
 ],
 "metadata": {
  "kernelspec": {
   "display_name": "Python 3",
   "language": "python",
   "name": "python3"
  },
  "language_info": {
   "codemirror_mode": {
    "name": "ipython",
    "version": 3
   },
   "file_extension": ".py",
   "mimetype": "text/x-python",
   "name": "python",
   "nbconvert_exporter": "python",
   "pygments_lexer": "ipython3",
   "version": "3.7.4"
  }
 },
 "nbformat": 4,
 "nbformat_minor": 2
}
