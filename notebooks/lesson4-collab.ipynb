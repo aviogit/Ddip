{
 "cells": [
  {
   "cell_type": "code",
   "execution_count": 4,
   "metadata": {},
   "outputs": [
    {
     "name": "stdout",
     "output_type": "stream",
     "text": [
      "The Ddip extension is already loaded. To reload it, use:\n",
      "  %reload_ext Ddip\n",
      "Proc [21249] DDP.exit_group(): [0, 1, 2]\n",
      "Proc [21249] Terminating ipcluster process [21375] with by 'ipcluster stop', just a few seconds ....\n",
      "Proc [21249] no running ipcluster process.\n",
      "Waiting for connection file: ~/.ipython/profile_default/security/ipcontroller-ippdpp_c-client.json\n"
     ]
    },
    {
     "name": "stderr",
     "output_type": "stream",
     "text": [
      "Proc [21249] Connecting to ipyparallel cluster......."
     ]
    },
    {
     "name": "stdout",
     "output_type": "stream",
     "text": [
      "Proc [21249] Initializing torch distributed group with GPUs [0, 1, 2]\n",
      "Proc [21249] Local Ranks initialized:  ['GPU0=0', 'GPU1=1', 'GPU2=2']\n",
      "Proc [21249] Importing on cluster: ['import fastai, fastai.torch_core, torch, fastprogress', 'from fastai.distributed import *', 'from Ddip.fastai_v1 import initializer, finalizer, set_verbose, lr_find_bypass']\n",
      "Proc [21249]\n",
      "fastai_v1:\n",
      "[Process 21646] Rank 0 fastai initialized for distributed data parallel.\n",
      "[Process 21648] Rank 1 fastai initialized for distributed data parallel.\n",
      "[Process 21650] Rank 2 fastai initialized for distributed data parallel.\n"
     ]
    }
   ],
   "source": [
    "%load_ext Ddip\n",
    "%makedip -r -a fastai_v1 -g all --verbose True"
   ]
  },
  {
   "cell_type": "code",
   "execution_count": 5,
   "metadata": {},
   "outputs": [
    {
     "name": "stdout",
     "output_type": "stream",
     "text": [
      "%%dip everywhere: Running cell in local namespace.\n",
      "%%dip everywhere: Running cell in remote DDP namespace (GPUs: [0, 1, 2]).\n"
     ]
    }
   ],
   "source": [
    "%%dip everywhere\n",
    "from fastai.collab import *\n",
    "from fastai.tabular import *"
   ]
  },
  {
   "cell_type": "markdown",
   "metadata": {},
   "source": [
    "## Collaborative filtering example"
   ]
  },
  {
   "cell_type": "markdown",
   "metadata": {},
   "source": [
    "`collab` models use data in a `DataFrame` of user, items, and ratings."
   ]
  },
  {
   "cell_type": "code",
   "execution_count": 6,
   "metadata": {},
   "outputs": [],
   "source": [
    "user,item,title = 'userId','movieId','title'"
   ]
  },
  {
   "cell_type": "code",
   "execution_count": 7,
   "metadata": {},
   "outputs": [
    {
     "data": {
      "text/plain": [
       "PosixPath('/home/ndim1/.fastai/data/movie_lens_sample')"
      ]
     },
     "execution_count": 7,
     "metadata": {},
     "output_type": "execute_result"
    }
   ],
   "source": [
    "path = untar_data(URLs.ML_SAMPLE)\n",
    "path"
   ]
  },
  {
   "cell_type": "code",
   "execution_count": 8,
   "metadata": {},
   "outputs": [
    {
     "data": {
      "text/html": [
       "<div>\n",
       "<style scoped>\n",
       "    .dataframe tbody tr th:only-of-type {\n",
       "        vertical-align: middle;\n",
       "    }\n",
       "\n",
       "    .dataframe tbody tr th {\n",
       "        vertical-align: top;\n",
       "    }\n",
       "\n",
       "    .dataframe thead th {\n",
       "        text-align: right;\n",
       "    }\n",
       "</style>\n",
       "<table border=\"1\" class=\"dataframe\">\n",
       "  <thead>\n",
       "    <tr style=\"text-align: right;\">\n",
       "      <th></th>\n",
       "      <th>userId</th>\n",
       "      <th>movieId</th>\n",
       "      <th>rating</th>\n",
       "      <th>timestamp</th>\n",
       "    </tr>\n",
       "  </thead>\n",
       "  <tbody>\n",
       "    <tr>\n",
       "      <td>0</td>\n",
       "      <td>73</td>\n",
       "      <td>1097</td>\n",
       "      <td>4.0</td>\n",
       "      <td>1255504951</td>\n",
       "    </tr>\n",
       "    <tr>\n",
       "      <td>1</td>\n",
       "      <td>561</td>\n",
       "      <td>924</td>\n",
       "      <td>3.5</td>\n",
       "      <td>1172695223</td>\n",
       "    </tr>\n",
       "    <tr>\n",
       "      <td>2</td>\n",
       "      <td>157</td>\n",
       "      <td>260</td>\n",
       "      <td>3.5</td>\n",
       "      <td>1291598691</td>\n",
       "    </tr>\n",
       "    <tr>\n",
       "      <td>3</td>\n",
       "      <td>358</td>\n",
       "      <td>1210</td>\n",
       "      <td>5.0</td>\n",
       "      <td>957481884</td>\n",
       "    </tr>\n",
       "    <tr>\n",
       "      <td>4</td>\n",
       "      <td>130</td>\n",
       "      <td>316</td>\n",
       "      <td>2.0</td>\n",
       "      <td>1138999234</td>\n",
       "    </tr>\n",
       "  </tbody>\n",
       "</table>\n",
       "</div>"
      ],
      "text/plain": [
       "   userId  movieId  rating   timestamp\n",
       "0      73     1097     4.0  1255504951\n",
       "1     561      924     3.5  1172695223\n",
       "2     157      260     3.5  1291598691\n",
       "3     358     1210     5.0   957481884\n",
       "4     130      316     2.0  1138999234"
      ]
     },
     "execution_count": 8,
     "metadata": {},
     "output_type": "execute_result"
    }
   ],
   "source": [
    "ratings = pd.read_csv(path/'ratings.csv')\n",
    "ratings.head()"
   ]
  },
  {
   "cell_type": "code",
   "execution_count": 9,
   "metadata": {},
   "outputs": [
    {
     "name": "stdout",
     "output_type": "stream",
     "text": [
      "Pushing parameters to DDP namespace: ['ratings']\n",
      "Auto Execution on DDP group: on, will run cell as %%dip\n"
     ]
    }
   ],
   "source": [
    "%dipush ratings\n",
    "%autodip on"
   ]
  },
  {
   "cell_type": "markdown",
   "metadata": {},
   "source": [
    "That's all we need to create and train a model:"
   ]
  },
  {
   "cell_type": "code",
   "execution_count": 10,
   "metadata": {},
   "outputs": [
    {
     "name": "stdout",
     "output_type": "stream",
     "text": [
      "%%dip : Running cell in remote DDP namespace (GPUs: [0, 1, 2]).\n"
     ]
    }
   ],
   "source": [
    "data = CollabDataBunch.from_df(ratings, seed=42)"
   ]
  },
  {
   "cell_type": "code",
   "execution_count": 11,
   "metadata": {},
   "outputs": [
    {
     "name": "stdout",
     "output_type": "stream",
     "text": [
      "%%dip : Running cell in remote DDP namespace (GPUs: [0, 1, 2]).\n"
     ]
    }
   ],
   "source": [
    "y_range = [0,5.5]"
   ]
  },
  {
   "cell_type": "code",
   "execution_count": 12,
   "metadata": {},
   "outputs": [
    {
     "name": "stdout",
     "output_type": "stream",
     "text": [
      "%%dip : Running cell in remote DDP namespace (GPUs: [0, 1, 2]).\n"
     ]
    }
   ],
   "source": [
    "learn = collab_learner(data, n_factors=50, y_range=y_range)"
   ]
  },
  {
   "cell_type": "code",
   "execution_count": 13,
   "metadata": {},
   "outputs": [
    {
     "name": "stdout",
     "output_type": "stream",
     "text": [
      "%%dip : Running cell in remote DDP namespace (GPUs: [0, 1, 2]).\n",
      "epoch     train_loss  valid_loss  time    \n",
      "0         1.965993    1.949715    00:01                                                  \n",
      "1         1.467695    0.889671    00:01                                                  \n",
      "2         1.073354    0.787155    00:01                                                  \n"
     ]
    }
   ],
   "source": [
    "learn.fit_one_cycle(3, 5e-3)"
   ]
  },
  {
   "cell_type": "code",
   "execution_count": 14,
   "metadata": {},
   "outputs": [
    {
     "name": "stdout",
     "output_type": "stream",
     "text": [
      "Auto Execution on DDP group: Off\n"
     ]
    }
   ],
   "source": [
    "%autodip off"
   ]
  },
  {
   "cell_type": "markdown",
   "metadata": {},
   "source": [
    "## Movielens 100k"
   ]
  },
  {
   "cell_type": "markdown",
   "metadata": {},
   "source": [
    "Let's try with the full Movielens 100k data dataset, available from http://files.grouplens.org/datasets/movielens/ml-100k.zip"
   ]
  },
  {
   "cell_type": "code",
   "execution_count": 15,
   "metadata": {},
   "outputs": [],
   "source": [
    "path=Config.data_path()/'ml-100k'"
   ]
  },
  {
   "cell_type": "code",
   "execution_count": 16,
   "metadata": {},
   "outputs": [
    {
     "data": {
      "text/html": [
       "<div>\n",
       "<style scoped>\n",
       "    .dataframe tbody tr th:only-of-type {\n",
       "        vertical-align: middle;\n",
       "    }\n",
       "\n",
       "    .dataframe tbody tr th {\n",
       "        vertical-align: top;\n",
       "    }\n",
       "\n",
       "    .dataframe thead th {\n",
       "        text-align: right;\n",
       "    }\n",
       "</style>\n",
       "<table border=\"1\" class=\"dataframe\">\n",
       "  <thead>\n",
       "    <tr style=\"text-align: right;\">\n",
       "      <th></th>\n",
       "      <th>userId</th>\n",
       "      <th>movieId</th>\n",
       "      <th>rating</th>\n",
       "      <th>timestamp</th>\n",
       "    </tr>\n",
       "  </thead>\n",
       "  <tbody>\n",
       "    <tr>\n",
       "      <td>0</td>\n",
       "      <td>196</td>\n",
       "      <td>242</td>\n",
       "      <td>3</td>\n",
       "      <td>881250949</td>\n",
       "    </tr>\n",
       "    <tr>\n",
       "      <td>1</td>\n",
       "      <td>186</td>\n",
       "      <td>302</td>\n",
       "      <td>3</td>\n",
       "      <td>891717742</td>\n",
       "    </tr>\n",
       "    <tr>\n",
       "      <td>2</td>\n",
       "      <td>22</td>\n",
       "      <td>377</td>\n",
       "      <td>1</td>\n",
       "      <td>878887116</td>\n",
       "    </tr>\n",
       "    <tr>\n",
       "      <td>3</td>\n",
       "      <td>244</td>\n",
       "      <td>51</td>\n",
       "      <td>2</td>\n",
       "      <td>880606923</td>\n",
       "    </tr>\n",
       "    <tr>\n",
       "      <td>4</td>\n",
       "      <td>166</td>\n",
       "      <td>346</td>\n",
       "      <td>1</td>\n",
       "      <td>886397596</td>\n",
       "    </tr>\n",
       "  </tbody>\n",
       "</table>\n",
       "</div>"
      ],
      "text/plain": [
       "   userId  movieId  rating  timestamp\n",
       "0     196      242       3  881250949\n",
       "1     186      302       3  891717742\n",
       "2      22      377       1  878887116\n",
       "3     244       51       2  880606923\n",
       "4     166      346       1  886397596"
      ]
     },
     "execution_count": 16,
     "metadata": {},
     "output_type": "execute_result"
    }
   ],
   "source": [
    "ratings = pd.read_csv(path/'u.data', delimiter='\\t', header=None,\n",
    "                      names=[user,item,'rating','timestamp'])\n",
    "ratings.head()"
   ]
  },
  {
   "cell_type": "code",
   "execution_count": 17,
   "metadata": {},
   "outputs": [
    {
     "data": {
      "text/html": [
       "<div>\n",
       "<style scoped>\n",
       "    .dataframe tbody tr th:only-of-type {\n",
       "        vertical-align: middle;\n",
       "    }\n",
       "\n",
       "    .dataframe tbody tr th {\n",
       "        vertical-align: top;\n",
       "    }\n",
       "\n",
       "    .dataframe thead th {\n",
       "        text-align: right;\n",
       "    }\n",
       "</style>\n",
       "<table border=\"1\" class=\"dataframe\">\n",
       "  <thead>\n",
       "    <tr style=\"text-align: right;\">\n",
       "      <th></th>\n",
       "      <th>movieId</th>\n",
       "      <th>title</th>\n",
       "      <th>date</th>\n",
       "      <th>N</th>\n",
       "      <th>url</th>\n",
       "      <th>g0</th>\n",
       "      <th>g1</th>\n",
       "      <th>g2</th>\n",
       "      <th>g3</th>\n",
       "      <th>g4</th>\n",
       "      <th>...</th>\n",
       "      <th>g9</th>\n",
       "      <th>g10</th>\n",
       "      <th>g11</th>\n",
       "      <th>g12</th>\n",
       "      <th>g13</th>\n",
       "      <th>g14</th>\n",
       "      <th>g15</th>\n",
       "      <th>g16</th>\n",
       "      <th>g17</th>\n",
       "      <th>g18</th>\n",
       "    </tr>\n",
       "  </thead>\n",
       "  <tbody>\n",
       "    <tr>\n",
       "      <td>0</td>\n",
       "      <td>1</td>\n",
       "      <td>Toy Story (1995)</td>\n",
       "      <td>01-Jan-1995</td>\n",
       "      <td>NaN</td>\n",
       "      <td>http://us.imdb.com/M/title-exact?Toy%20Story%2...</td>\n",
       "      <td>0</td>\n",
       "      <td>0</td>\n",
       "      <td>0</td>\n",
       "      <td>1</td>\n",
       "      <td>1</td>\n",
       "      <td>...</td>\n",
       "      <td>0</td>\n",
       "      <td>0</td>\n",
       "      <td>0</td>\n",
       "      <td>0</td>\n",
       "      <td>0</td>\n",
       "      <td>0</td>\n",
       "      <td>0</td>\n",
       "      <td>0</td>\n",
       "      <td>0</td>\n",
       "      <td>0</td>\n",
       "    </tr>\n",
       "    <tr>\n",
       "      <td>1</td>\n",
       "      <td>2</td>\n",
       "      <td>GoldenEye (1995)</td>\n",
       "      <td>01-Jan-1995</td>\n",
       "      <td>NaN</td>\n",
       "      <td>http://us.imdb.com/M/title-exact?GoldenEye%20(...</td>\n",
       "      <td>0</td>\n",
       "      <td>1</td>\n",
       "      <td>1</td>\n",
       "      <td>0</td>\n",
       "      <td>0</td>\n",
       "      <td>...</td>\n",
       "      <td>0</td>\n",
       "      <td>0</td>\n",
       "      <td>0</td>\n",
       "      <td>0</td>\n",
       "      <td>0</td>\n",
       "      <td>0</td>\n",
       "      <td>0</td>\n",
       "      <td>1</td>\n",
       "      <td>0</td>\n",
       "      <td>0</td>\n",
       "    </tr>\n",
       "    <tr>\n",
       "      <td>2</td>\n",
       "      <td>3</td>\n",
       "      <td>Four Rooms (1995)</td>\n",
       "      <td>01-Jan-1995</td>\n",
       "      <td>NaN</td>\n",
       "      <td>http://us.imdb.com/M/title-exact?Four%20Rooms%...</td>\n",
       "      <td>0</td>\n",
       "      <td>0</td>\n",
       "      <td>0</td>\n",
       "      <td>0</td>\n",
       "      <td>0</td>\n",
       "      <td>...</td>\n",
       "      <td>0</td>\n",
       "      <td>0</td>\n",
       "      <td>0</td>\n",
       "      <td>0</td>\n",
       "      <td>0</td>\n",
       "      <td>0</td>\n",
       "      <td>0</td>\n",
       "      <td>1</td>\n",
       "      <td>0</td>\n",
       "      <td>0</td>\n",
       "    </tr>\n",
       "    <tr>\n",
       "      <td>3</td>\n",
       "      <td>4</td>\n",
       "      <td>Get Shorty (1995)</td>\n",
       "      <td>01-Jan-1995</td>\n",
       "      <td>NaN</td>\n",
       "      <td>http://us.imdb.com/M/title-exact?Get%20Shorty%...</td>\n",
       "      <td>0</td>\n",
       "      <td>1</td>\n",
       "      <td>0</td>\n",
       "      <td>0</td>\n",
       "      <td>0</td>\n",
       "      <td>...</td>\n",
       "      <td>0</td>\n",
       "      <td>0</td>\n",
       "      <td>0</td>\n",
       "      <td>0</td>\n",
       "      <td>0</td>\n",
       "      <td>0</td>\n",
       "      <td>0</td>\n",
       "      <td>0</td>\n",
       "      <td>0</td>\n",
       "      <td>0</td>\n",
       "    </tr>\n",
       "    <tr>\n",
       "      <td>4</td>\n",
       "      <td>5</td>\n",
       "      <td>Copycat (1995)</td>\n",
       "      <td>01-Jan-1995</td>\n",
       "      <td>NaN</td>\n",
       "      <td>http://us.imdb.com/M/title-exact?Copycat%20(1995)</td>\n",
       "      <td>0</td>\n",
       "      <td>0</td>\n",
       "      <td>0</td>\n",
       "      <td>0</td>\n",
       "      <td>0</td>\n",
       "      <td>...</td>\n",
       "      <td>0</td>\n",
       "      <td>0</td>\n",
       "      <td>0</td>\n",
       "      <td>0</td>\n",
       "      <td>0</td>\n",
       "      <td>0</td>\n",
       "      <td>0</td>\n",
       "      <td>1</td>\n",
       "      <td>0</td>\n",
       "      <td>0</td>\n",
       "    </tr>\n",
       "  </tbody>\n",
       "</table>\n",
       "<p>5 rows × 24 columns</p>\n",
       "</div>"
      ],
      "text/plain": [
       "   movieId              title         date   N  \\\n",
       "0        1   Toy Story (1995)  01-Jan-1995 NaN   \n",
       "1        2   GoldenEye (1995)  01-Jan-1995 NaN   \n",
       "2        3  Four Rooms (1995)  01-Jan-1995 NaN   \n",
       "3        4  Get Shorty (1995)  01-Jan-1995 NaN   \n",
       "4        5     Copycat (1995)  01-Jan-1995 NaN   \n",
       "\n",
       "                                                 url  g0  g1  g2  g3  g4  ...  \\\n",
       "0  http://us.imdb.com/M/title-exact?Toy%20Story%2...   0   0   0   1   1  ...   \n",
       "1  http://us.imdb.com/M/title-exact?GoldenEye%20(...   0   1   1   0   0  ...   \n",
       "2  http://us.imdb.com/M/title-exact?Four%20Rooms%...   0   0   0   0   0  ...   \n",
       "3  http://us.imdb.com/M/title-exact?Get%20Shorty%...   0   1   0   0   0  ...   \n",
       "4  http://us.imdb.com/M/title-exact?Copycat%20(1995)   0   0   0   0   0  ...   \n",
       "\n",
       "   g9  g10  g11  g12  g13  g14  g15  g16  g17  g18  \n",
       "0   0    0    0    0    0    0    0    0    0    0  \n",
       "1   0    0    0    0    0    0    0    1    0    0  \n",
       "2   0    0    0    0    0    0    0    1    0    0  \n",
       "3   0    0    0    0    0    0    0    0    0    0  \n",
       "4   0    0    0    0    0    0    0    1    0    0  \n",
       "\n",
       "[5 rows x 24 columns]"
      ]
     },
     "execution_count": 17,
     "metadata": {},
     "output_type": "execute_result"
    }
   ],
   "source": [
    "movies = pd.read_csv(path/'u.item',  delimiter='|', encoding='latin-1', header=None,\n",
    "                    names=[item, 'title', 'date', 'N', 'url', *[f'g{i}' for i in range(19)]])\n",
    "movies.head()"
   ]
  },
  {
   "cell_type": "code",
   "execution_count": 18,
   "metadata": {},
   "outputs": [
    {
     "data": {
      "text/plain": [
       "100000"
      ]
     },
     "execution_count": 18,
     "metadata": {},
     "output_type": "execute_result"
    }
   ],
   "source": [
    "len(ratings)"
   ]
  },
  {
   "cell_type": "code",
   "execution_count": 19,
   "metadata": {},
   "outputs": [
    {
     "data": {
      "text/html": [
       "<div>\n",
       "<style scoped>\n",
       "    .dataframe tbody tr th:only-of-type {\n",
       "        vertical-align: middle;\n",
       "    }\n",
       "\n",
       "    .dataframe tbody tr th {\n",
       "        vertical-align: top;\n",
       "    }\n",
       "\n",
       "    .dataframe thead th {\n",
       "        text-align: right;\n",
       "    }\n",
       "</style>\n",
       "<table border=\"1\" class=\"dataframe\">\n",
       "  <thead>\n",
       "    <tr style=\"text-align: right;\">\n",
       "      <th></th>\n",
       "      <th>userId</th>\n",
       "      <th>movieId</th>\n",
       "      <th>rating</th>\n",
       "      <th>timestamp</th>\n",
       "      <th>title</th>\n",
       "    </tr>\n",
       "  </thead>\n",
       "  <tbody>\n",
       "    <tr>\n",
       "      <td>0</td>\n",
       "      <td>196</td>\n",
       "      <td>242</td>\n",
       "      <td>3</td>\n",
       "      <td>881250949</td>\n",
       "      <td>Kolya (1996)</td>\n",
       "    </tr>\n",
       "    <tr>\n",
       "      <td>1</td>\n",
       "      <td>63</td>\n",
       "      <td>242</td>\n",
       "      <td>3</td>\n",
       "      <td>875747190</td>\n",
       "      <td>Kolya (1996)</td>\n",
       "    </tr>\n",
       "    <tr>\n",
       "      <td>2</td>\n",
       "      <td>226</td>\n",
       "      <td>242</td>\n",
       "      <td>5</td>\n",
       "      <td>883888671</td>\n",
       "      <td>Kolya (1996)</td>\n",
       "    </tr>\n",
       "    <tr>\n",
       "      <td>3</td>\n",
       "      <td>154</td>\n",
       "      <td>242</td>\n",
       "      <td>3</td>\n",
       "      <td>879138235</td>\n",
       "      <td>Kolya (1996)</td>\n",
       "    </tr>\n",
       "    <tr>\n",
       "      <td>4</td>\n",
       "      <td>306</td>\n",
       "      <td>242</td>\n",
       "      <td>5</td>\n",
       "      <td>876503793</td>\n",
       "      <td>Kolya (1996)</td>\n",
       "    </tr>\n",
       "  </tbody>\n",
       "</table>\n",
       "</div>"
      ],
      "text/plain": [
       "   userId  movieId  rating  timestamp         title\n",
       "0     196      242       3  881250949  Kolya (1996)\n",
       "1      63      242       3  875747190  Kolya (1996)\n",
       "2     226      242       5  883888671  Kolya (1996)\n",
       "3     154      242       3  879138235  Kolya (1996)\n",
       "4     306      242       5  876503793  Kolya (1996)"
      ]
     },
     "execution_count": 19,
     "metadata": {},
     "output_type": "execute_result"
    }
   ],
   "source": [
    "rating_movie = ratings.merge(movies[[item, title]])\n",
    "rating_movie.head()"
   ]
  },
  {
   "cell_type": "code",
   "execution_count": 21,
   "metadata": {},
   "outputs": [
    {
     "name": "stdout",
     "output_type": "stream",
     "text": [
      "Pushing parameters to DDP namespace: ['rating_movie', 'title']\n",
      "Auto Execution on DDP group: on, will run cell as %%dip\n"
     ]
    }
   ],
   "source": [
    "%dipush rating_movie title\n",
    "%autodip on"
   ]
  },
  {
   "cell_type": "code",
   "execution_count": 22,
   "metadata": {},
   "outputs": [
    {
     "name": "stdout",
     "output_type": "stream",
     "text": [
      "%%dip : Running cell in remote DDP namespace (GPUs: [0, 1, 2]).\n"
     ]
    }
   ],
   "source": [
    "data = CollabDataBunch.from_df(rating_movie, seed=42, valid_pct=0.1, item_name=title)"
   ]
  },
  {
   "cell_type": "code",
   "execution_count": 23,
   "metadata": {},
   "outputs": [
    {
     "name": "stdout",
     "output_type": "stream",
     "text": [
      "%%dip : Running cell in remote DDP namespace (GPUs: [0, 1, 2]).\n"
     ]
    },
    {
     "data": {
      "text/plain": [
       "[output:0]"
      ]
     },
     "metadata": {},
     "output_type": "display_data"
    },
    {
     "data": {
      "text/html": [
       "<table border=\"1\" class=\"dataframe\">\n",
       "  <thead>\n",
       "    <tr style=\"text-align: right;\">\n",
       "      <th>userId</th>\n",
       "      <th>title</th>\n",
       "      <th>target</th>\n",
       "    </tr>\n",
       "  </thead>\n",
       "  <tbody>\n",
       "    <tr>\n",
       "      <td>477</td>\n",
       "      <td>Circle of Friends (1995)</td>\n",
       "      <td>4.0</td>\n",
       "    </tr>\n",
       "    <tr>\n",
       "      <td>378</td>\n",
       "      <td>City of Angels (1998)</td>\n",
       "      <td>3.0</td>\n",
       "    </tr>\n",
       "    <tr>\n",
       "      <td>170</td>\n",
       "      <td>Money Talks (1997)</td>\n",
       "      <td>3.0</td>\n",
       "    </tr>\n",
       "    <tr>\n",
       "      <td>234</td>\n",
       "      <td>Pollyanna (1960)</td>\n",
       "      <td>4.0</td>\n",
       "    </tr>\n",
       "    <tr>\n",
       "      <td>89</td>\n",
       "      <td>Beautiful Girls (1996)</td>\n",
       "      <td>3.0</td>\n",
       "    </tr>\n",
       "  </tbody>\n",
       "</table>"
      ],
      "text/plain": [
       "<IPython.core.display.HTML object>"
      ]
     },
     "metadata": {
      "engine": 0
     },
     "output_type": "display_data"
    }
   ],
   "source": [
    "data.show_batch()"
   ]
  },
  {
   "cell_type": "code",
   "execution_count": 24,
   "metadata": {},
   "outputs": [
    {
     "name": "stdout",
     "output_type": "stream",
     "text": [
      "%%dip : Running cell in remote DDP namespace (GPUs: [0, 1, 2]).\n"
     ]
    }
   ],
   "source": [
    "y_range = [0,5.5]"
   ]
  },
  {
   "cell_type": "code",
   "execution_count": 25,
   "metadata": {},
   "outputs": [
    {
     "name": "stdout",
     "output_type": "stream",
     "text": [
      "%%dip : Running cell in remote DDP namespace (GPUs: [0, 1, 2]).\n"
     ]
    }
   ],
   "source": [
    "learn = collab_learner(data, n_factors=40, y_range=y_range, wd=1e-1)"
   ]
  },
  {
   "cell_type": "code",
   "execution_count": 26,
   "metadata": {},
   "outputs": [
    {
     "name": "stdout",
     "output_type": "stream",
     "text": [
      "%%dip : Running cell in remote DDP namespace (GPUs: [0, 1, 2]).\n",
      "Proc [21646] Rank [0] Removing callback <class 'fastai.distributed.DistributedTrainer'> from learner.\n",
      "Proc [21646] Rank [0] Removing callback <class 'fastai.distributed.DistributedRecorder'> from learner.\n",
      "Proc [21646] Rank [0] Running lr_find() in non DDP mode\n",
      "epoch     train_loss  valid_loss  time    \n",
      "0         3.212851    #na#        00:00     ---------| 6.19% [87/1406 00:00<00:09 2.0265]\n",
      "LR Finder is complete, type {learner_name}.recorder.plot() to see the graph.\n"
     ]
    },
    {
     "data": {
      "text/plain": [
       "[output:0]"
      ]
     },
     "metadata": {},
     "output_type": "display_data"
    },
    {
     "data": {
      "image/png": "[encoded data removed]",
      "text/plain": [
       "<Figure size 432x288 with 1 Axes>"
      ]
     },
     "metadata": {
      "engine": 0,
      "needs_background": "light"
     },
     "output_type": "display_data"
    }
   ],
   "source": [
    "learn.lr_find()\n",
    "learn.recorder.plot(skip_end=15)"
   ]
  },
  {
   "cell_type": "code",
   "execution_count": 27,
   "metadata": {},
   "outputs": [
    {
     "name": "stdout",
     "output_type": "stream",
     "text": [
      "%%dip : Running cell in remote DDP namespace (GPUs: [0, 1, 2]).\n",
      "epoch     train_loss  valid_loss  time    \n",
      "0         1.015488    0.961471    00:04                                                    \n",
      "1         0.865189    0.869091    00:04                                                    \n",
      "2         0.749191    0.827436    00:04                                                    \n",
      "3         0.615849    0.812317    00:04                                                    \n",
      "4         0.541574    0.811637    00:04                                                    \n"
     ]
    }
   ],
   "source": [
    "learn.fit_one_cycle(5, 5e-3)"
   ]
  },
  {
   "cell_type": "code",
   "execution_count": 28,
   "metadata": {},
   "outputs": [
    {
     "name": "stdout",
     "output_type": "stream",
     "text": [
      "%%dip : Running cell in remote DDP namespace (GPUs: [0, 1, 2]).\n"
     ]
    }
   ],
   "source": [
    "learn.save('dotprod')"
   ]
  },
  {
   "cell_type": "markdown",
   "metadata": {},
   "source": [
    "Here's [some benchmarks](https://www.librec.net/release/v1.3/example.html) on the same dataset for the popular Librec system for collaborative filtering. They show best results based on RMSE of 0.91, which corresponds to an MSE of `0.91**2 = 0.83`."
   ]
  },
  {
   "cell_type": "markdown",
   "metadata": {},
   "source": [
    "## Interpretation"
   ]
  },
  {
   "cell_type": "markdown",
   "metadata": {},
   "source": [
    "### Setup"
   ]
  },
  {
   "cell_type": "code",
   "execution_count": 29,
   "metadata": {},
   "outputs": [
    {
     "name": "stdout",
     "output_type": "stream",
     "text": [
      "%%dip : Running cell in remote DDP namespace (GPUs: [0, 1, 2]).\n"
     ]
    }
   ],
   "source": [
    "learn.load('dotprod');"
   ]
  },
  {
   "cell_type": "code",
   "execution_count": 30,
   "metadata": {},
   "outputs": [
    {
     "name": "stdout",
     "output_type": "stream",
     "text": [
      "%%dip : Running cell in remote DDP namespace (GPUs: [0, 1, 2]).\n"
     ]
    },
    {
     "data": {
      "text/plain": [
       "\u001b[0;31mOut[0:14]: \u001b[0m\n",
       "EmbeddingDotBias(\n",
       "  (u_weight): Embedding(944, 40)\n",
       "  (i_weight): Embedding(1654, 40)\n",
       "  (u_bias): Embedding(944, 1)\n",
       "  (i_bias): Embedding(1654, 1)\n",
       ")"
      ]
     },
     "metadata": {
      "after": [],
      "completed": "2020-01-31T06:58:29.955990",
      "data": {},
      "engine_id": 0,
      "engine_uuid": "6b1cfa96-f5f820c5f6aaec81705e33fd",
      "error": null,
      "execute_input": "learn.model\n",
      "execute_result": {
       "data": {
        "text/plain": "EmbeddingDotBias(\n  (u_weight): Embedding(944, 40)\n  (i_weight): Embedding(1654, 40)\n  (u_bias): Embedding(944, 1)\n  (i_bias): Embedding(1654, 1)\n)"
       },
       "execution_count": 14,
       "metadata": {}
      },
      "follow": [],
      "msg_id": "3f8cec57-806b1aee69def53828e65bcc",
      "outputs": [],
      "received": "2020-01-31T06:58:29.960633",
      "started": "2020-01-31T06:58:29.952477",
      "status": "ok",
      "stderr": "",
      "stdout": "",
      "submitted": "2020-01-31T06:58:29.950278"
     },
     "output_type": "display_data"
    }
   ],
   "source": [
    "learn.model"
   ]
  },
  {
   "cell_type": "code",
   "execution_count": 31,
   "metadata": {},
   "outputs": [
    {
     "name": "stdout",
     "output_type": "stream",
     "text": [
      "%%dip : Running cell in remote DDP namespace (GPUs: [0, 1, 2]).\n"
     ]
    },
    {
     "data": {
      "text/plain": [
       "\u001b[0;31mOut[0:15]: \u001b[0m\n",
       "array(['Star Wars (1977)', 'Contact (1997)', 'Fargo (1996)', 'Return of the Jedi (1983)', 'Liar Liar (1997)',\n",
       "       'English Patient, The (1996)', 'Scream (1996)', 'Toy Story (1995)', 'Air Force One (1997)',\n",
       "       'Independence Day (ID4) (1996)'], dtype=object)"
      ]
     },
     "metadata": {
      "after": [],
      "completed": "2020-01-31T06:58:32.584599",
      "data": {},
      "engine_id": 0,
      "engine_uuid": "6b1cfa96-f5f820c5f6aaec81705e33fd",
      "error": null,
      "execute_input": "g = rating_movie.groupby(title)['rating'].count()\ntop_movies = g.sort_values(ascending=False).index.values[:1000]\ntop_movies[:10]\n",
      "execute_result": {
       "data": {
        "text/plain": "array(['Star Wars (1977)', 'Contact (1997)', 'Fargo (1996)', 'Return of the Jedi (1983)', 'Liar Liar (1997)',\n       'English Patient, The (1996)', 'Scream (1996)', 'Toy Story (1995)', 'Air Force One (1997)',\n       'Independence Day (ID4) (1996)'], dtype=object)"
       },
       "execution_count": 15,
       "metadata": {}
      },
      "follow": [],
      "msg_id": "8b60875d-7e97dbfcbbac7d748efbf673",
      "outputs": [],
      "received": "2020-01-31T06:58:32.586823",
      "started": "2020-01-31T06:58:32.568187",
      "status": "ok",
      "stderr": "",
      "stdout": "",
      "submitted": "2020-01-31T06:58:32.566514"
     },
     "output_type": "display_data"
    }
   ],
   "source": [
    "g = rating_movie.groupby(title)['rating'].count()\n",
    "top_movies = g.sort_values(ascending=False).index.values[:1000]\n",
    "top_movies[:10]"
   ]
  },
  {
   "cell_type": "markdown",
   "metadata": {},
   "source": [
    "### Movie bias"
   ]
  },
  {
   "cell_type": "code",
   "execution_count": 32,
   "metadata": {},
   "outputs": [
    {
     "name": "stdout",
     "output_type": "stream",
     "text": [
      "%%dip : Running cell in remote DDP namespace (GPUs: [0, 1, 2]).\n"
     ]
    },
    {
     "data": {
      "text/plain": [
       "\u001b[0;31mOut[0:16]: \u001b[0mtorch.Size([1000])"
      ]
     },
     "metadata": {
      "after": [],
      "completed": "2020-01-31T06:58:34.458463",
      "data": {},
      "engine_id": 0,
      "engine_uuid": "6b1cfa96-f5f820c5f6aaec81705e33fd",
      "error": null,
      "execute_input": "movie_bias = learn.bias(top_movies, is_item=True)\nmovie_bias.shape\n",
      "execute_result": {
       "data": {
        "text/plain": "torch.Size([1000])"
       },
       "execution_count": 16,
       "metadata": {}
      },
      "follow": [],
      "msg_id": "20e52439-f535ca8a9ab40c989c45608d",
      "outputs": [],
      "received": "2020-01-31T06:58:34.461235",
      "started": "2020-01-31T06:58:34.451375",
      "status": "ok",
      "stderr": "",
      "stdout": "",
      "submitted": "2020-01-31T06:58:34.448913"
     },
     "output_type": "display_data"
    }
   ],
   "source": [
    "movie_bias = learn.bias(top_movies, is_item=True)\n",
    "movie_bias.shape"
   ]
  },
  {
   "cell_type": "code",
   "execution_count": 33,
   "metadata": {},
   "outputs": [
    {
     "name": "stdout",
     "output_type": "stream",
     "text": [
      "%%dip : Running cell in remote DDP namespace (GPUs: [0, 1, 2]).\n"
     ]
    }
   ],
   "source": [
    "mean_ratings = rating_movie.groupby(title)['rating'].mean()\n",
    "movie_ratings = [(b, i, mean_ratings.loc[i]) for i,b in zip(top_movies,movie_bias)]"
   ]
  },
  {
   "cell_type": "code",
   "execution_count": 34,
   "metadata": {},
   "outputs": [
    {
     "name": "stdout",
     "output_type": "stream",
     "text": [
      "%%dip : Running cell in remote DDP namespace (GPUs: [0, 1, 2]).\n"
     ]
    }
   ],
   "source": [
    "item0 = lambda o:o[0]"
   ]
  },
  {
   "cell_type": "code",
   "execution_count": 35,
   "metadata": {},
   "outputs": [
    {
     "name": "stdout",
     "output_type": "stream",
     "text": [
      "%%dip : Running cell in remote DDP namespace (GPUs: [0, 1, 2]).\n"
     ]
    },
    {
     "data": {
      "text/plain": [
       "\u001b[0;31mOut[0:19]: \u001b[0m\n",
       "[(tensor(-0.3337),\n",
       "  'Children of the Corn: The Gathering (1996)',\n",
       "  1.3157894736842106),\n",
       " (tensor(-0.2942),\n",
       "  'Lawnmower Man 2: Beyond Cyberspace (1996)',\n",
       "  1.7142857142857142),\n",
       " (tensor(-0.2517), 'Mortal Kombat: Annihilation (1997)', 1.9534883720930232),\n",
       " (tensor(-0.2377), 'Cable Guy, The (1996)', 2.339622641509434),\n",
       " (tensor(-0.2329), 'Striptease (1996)', 2.2388059701492535),\n",
       " (tensor(-0.2278), 'Barb Wire (1996)', 1.9333333333333333),\n",
       " (tensor(-0.2251), 'Thinner (1996)', 2.4489795918367347),\n",
       " (tensor(-0.2202), 'Grease 2 (1982)', 2.0),\n",
       " (tensor(-0.2135), 'Beautician and the Beast, The (1997)', 2.313953488372093),\n",
       " (tensor(-0.2119), \"Joe's Apartment (1996)\", 2.2444444444444445),\n",
       " (tensor(-0.2099), \"Stephen King's The Langoliers (1995)\", 2.413793103448276),\n",
       " (tensor(-0.2022), 'Crow: City of Angels, The (1996)', 1.9487179487179487),\n",
       " (tensor(-0.2012), 'Island of Dr. Moreau, The (1996)', 2.1578947368421053),\n",
       " (tensor(-0.1998), 'Stuart Saves His Family (1995)', 2.125),\n",
       " (tensor(-0.1994), 'Home Alone 3 (1997)', 1.894736842105263)]"
      ]
     },
     "metadata": {
      "after": [],
      "completed": "2020-01-31T06:58:38.653337",
      "data": {},
      "engine_id": 0,
      "engine_uuid": "6b1cfa96-f5f820c5f6aaec81705e33fd",
      "error": null,
      "execute_input": "sorted(movie_ratings, key=item0)[:15]\n",
      "execute_result": {
       "data": {
        "text/plain": "[(tensor(-0.3337),\n  'Children of the Corn: The Gathering (1996)',\n  1.3157894736842106),\n (tensor(-0.2942),\n  'Lawnmower Man 2: Beyond Cyberspace (1996)',\n  1.7142857142857142),\n (tensor(-0.2517), 'Mortal Kombat: Annihilation (1997)', 1.9534883720930232),\n (tensor(-0.2377), 'Cable Guy, The (1996)', 2.339622641509434),\n (tensor(-0.2329), 'Striptease (1996)', 2.2388059701492535),\n (tensor(-0.2278), 'Barb Wire (1996)', 1.9333333333333333),\n (tensor(-0.2251), 'Thinner (1996)', 2.4489795918367347),\n (tensor(-0.2202), 'Grease 2 (1982)', 2.0),\n (tensor(-0.2135), 'Beautician and the Beast, The (1997)', 2.313953488372093),\n (tensor(-0.2119), \"Joe's Apartment (1996)\", 2.2444444444444445),\n (tensor(-0.2099), \"Stephen King's The Langoliers (1995)\", 2.413793103448276),\n (tensor(-0.2022), 'Crow: City of Angels, The (1996)', 1.9487179487179487),\n (tensor(-0.2012), 'Island of Dr. Moreau, The (1996)', 2.1578947368421053),\n (tensor(-0.1998), 'Stuart Saves His Family (1995)', 2.125),\n (tensor(-0.1994), 'Home Alone 3 (1997)', 1.894736842105263)]"
       },
       "execution_count": 19,
       "metadata": {}
      },
      "follow": [],
      "msg_id": "81f576c6-79ada7f9a65364952a0cfb1e",
      "outputs": [],
      "received": "2020-01-31T06:58:38.656398",
      "started": "2020-01-31T06:58:38.616157",
      "status": "ok",
      "stderr": "",
      "stdout": "",
      "submitted": "2020-01-31T06:58:38.611574"
     },
     "output_type": "display_data"
    }
   ],
   "source": [
    "sorted(movie_ratings, key=item0)[:15]"
   ]
  },
  {
   "cell_type": "code",
   "execution_count": 36,
   "metadata": {},
   "outputs": [
    {
     "name": "stdout",
     "output_type": "stream",
     "text": [
      "%%dip : Running cell in remote DDP namespace (GPUs: [0, 1, 2]).\n"
     ]
    },
    {
     "data": {
      "text/plain": [
       "\u001b[0;31mOut[0:20]: \u001b[0m\n",
       "[(tensor(0.5377), \"Schindler's List (1993)\", 4.466442953020135),\n",
       " (tensor(0.5088), 'Titanic (1997)', 4.2457142857142856),\n",
       " (tensor(0.4752), 'Rear Window (1954)', 4.3875598086124405),\n",
       " (tensor(0.4649), 'Shawshank Redemption, The (1994)', 4.445229681978798),\n",
       " (tensor(0.4643), 'L.A. Confidential (1997)', 4.161616161616162),\n",
       " (tensor(0.4484), 'Silence of the Lambs, The (1991)', 4.28974358974359),\n",
       " (tensor(0.4373), 'As Good As It Gets (1997)', 4.196428571428571),\n",
       " (tensor(0.4126), 'Good Will Hunting (1997)', 4.262626262626263),\n",
       " (tensor(0.4099), 'Boot, Das (1981)', 4.203980099502488),\n",
       " (tensor(0.4094), 'Casablanca (1942)', 4.45679012345679),\n",
       " (tensor(0.3933), 'Vertigo (1958)', 4.251396648044692),\n",
       " (tensor(0.3872), 'Apt Pupil (1998)', 4.1),\n",
       " (tensor(0.3848), 'Star Wars (1977)', 4.3584905660377355),\n",
       " (tensor(0.3795), 'Godfather, The (1972)', 4.283292978208232),\n",
       " (tensor(0.3757), 'Much Ado About Nothing (1993)', 4.0625)]"
      ]
     },
     "metadata": {
      "after": [],
      "completed": "2020-01-31T06:58:41.972744",
      "data": {},
      "engine_id": 0,
      "engine_uuid": "6b1cfa96-f5f820c5f6aaec81705e33fd",
      "error": null,
      "execute_input": "sorted(movie_ratings, key=lambda o: o[0], reverse=True)[:15]\n",
      "execute_result": {
       "data": {
        "text/plain": "[(tensor(0.5377), \"Schindler's List (1993)\", 4.466442953020135),\n (tensor(0.5088), 'Titanic (1997)', 4.2457142857142856),\n (tensor(0.4752), 'Rear Window (1954)', 4.3875598086124405),\n (tensor(0.4649), 'Shawshank Redemption, The (1994)', 4.445229681978798),\n (tensor(0.4643), 'L.A. Confidential (1997)', 4.161616161616162),\n (tensor(0.4484), 'Silence of the Lambs, The (1991)', 4.28974358974359),\n (tensor(0.4373), 'As Good As It Gets (1997)', 4.196428571428571),\n (tensor(0.4126), 'Good Will Hunting (1997)', 4.262626262626263),\n (tensor(0.4099), 'Boot, Das (1981)', 4.203980099502488),\n (tensor(0.4094), 'Casablanca (1942)', 4.45679012345679),\n (tensor(0.3933), 'Vertigo (1958)', 4.251396648044692),\n (tensor(0.3872), 'Apt Pupil (1998)', 4.1),\n (tensor(0.3848), 'Star Wars (1977)', 4.3584905660377355),\n (tensor(0.3795), 'Godfather, The (1972)', 4.283292978208232),\n (tensor(0.3757), 'Much Ado About Nothing (1993)', 4.0625)]"
       },
       "execution_count": 20,
       "metadata": {}
      },
      "follow": [],
      "msg_id": "c0727c54-fc904048080f6240bf4e9577",
      "outputs": [],
      "received": "2020-01-31T06:58:41.974929",
      "started": "2020-01-31T06:58:41.933995",
      "status": "ok",
      "stderr": "",
      "stdout": "",
      "submitted": "2020-01-31T06:58:41.931377"
     },
     "output_type": "display_data"
    }
   ],
   "source": [
    "sorted(movie_ratings, key=lambda o: o[0], reverse=True)[:15]"
   ]
  },
  {
   "cell_type": "markdown",
   "metadata": {},
   "source": [
    "### Movie weights"
   ]
  },
  {
   "cell_type": "code",
   "execution_count": 37,
   "metadata": {},
   "outputs": [
    {
     "name": "stdout",
     "output_type": "stream",
     "text": [
      "%%dip : Running cell in remote DDP namespace (GPUs: [0, 1, 2]).\n"
     ]
    },
    {
     "data": {
      "text/plain": [
       "\u001b[0;31mOut[0:21]: \u001b[0mtorch.Size([1000, 40])"
      ]
     },
     "metadata": {
      "after": [],
      "completed": "2020-01-31T06:58:47.278844",
      "data": {},
      "engine_id": 0,
      "engine_uuid": "6b1cfa96-f5f820c5f6aaec81705e33fd",
      "error": null,
      "execute_input": "movie_w = learn.weight(top_movies, is_item=True)\nmovie_w.shape\n",
      "execute_result": {
       "data": {
        "text/plain": "torch.Size([1000, 40])"
       },
       "execution_count": 21,
       "metadata": {}
      },
      "follow": [],
      "msg_id": "bd835a11-41d077275e278619406d79e1",
      "outputs": [],
      "received": "2020-01-31T06:58:47.284525",
      "started": "2020-01-31T06:58:47.271688",
      "status": "ok",
      "stderr": "",
      "stdout": "",
      "submitted": "2020-01-31T06:58:47.266161"
     },
     "output_type": "display_data"
    }
   ],
   "source": [
    "movie_w = learn.weight(top_movies, is_item=True)\n",
    "movie_w.shape"
   ]
  },
  {
   "cell_type": "code",
   "execution_count": 38,
   "metadata": {},
   "outputs": [
    {
     "name": "stdout",
     "output_type": "stream",
     "text": [
      "%%dip : Running cell in remote DDP namespace (GPUs: [0, 1, 2]).\n"
     ]
    },
    {
     "data": {
      "text/plain": [
       "\u001b[0;31mOut[0:22]: \u001b[0mtorch.Size([1000, 3])"
      ]
     },
     "metadata": {
      "after": [],
      "completed": "2020-01-31T06:58:48.792688",
      "data": {},
      "engine_id": 0,
      "engine_uuid": "6b1cfa96-f5f820c5f6aaec81705e33fd",
      "error": null,
      "execute_input": "movie_pca = movie_w.pca(3)\nmovie_pca.shape\n",
      "execute_result": {
       "data": {
        "text/plain": "torch.Size([1000, 3])"
       },
       "execution_count": 22,
       "metadata": {}
      },
      "follow": [],
      "msg_id": "7bae51e1-0c188760d5aac347a1d7fdfe",
      "outputs": [],
      "received": "2020-01-31T06:58:48.795500",
      "started": "2020-01-31T06:58:48.775854",
      "status": "ok",
      "stderr": "",
      "stdout": "",
      "submitted": "2020-01-31T06:58:48.773108"
     },
     "output_type": "display_data"
    }
   ],
   "source": [
    "movie_pca = movie_w.pca(3)\n",
    "movie_pca.shape"
   ]
  },
  {
   "cell_type": "code",
   "execution_count": 39,
   "metadata": {},
   "outputs": [
    {
     "name": "stdout",
     "output_type": "stream",
     "text": [
      "%%dip : Running cell in remote DDP namespace (GPUs: [0, 1, 2]).\n"
     ]
    }
   ],
   "source": [
    "fac0,fac1,fac2 = movie_pca.t()\n",
    "movie_comp = [(f, i) for f,i in zip(fac0, top_movies)]"
   ]
  },
  {
   "cell_type": "code",
   "execution_count": 40,
   "metadata": {},
   "outputs": [
    {
     "name": "stdout",
     "output_type": "stream",
     "text": [
      "%%dip : Running cell in remote DDP namespace (GPUs: [0, 1, 2]).\n"
     ]
    },
    {
     "data": {
      "text/plain": [
       "\u001b[0;31mOut[0:24]: \u001b[0m\n",
       "[(tensor(1.1931), 'Close Shave, A (1995)'),\n",
       " (tensor(1.1594), 'Wrong Trousers, The (1993)'),\n",
       " (tensor(1.1374), 'Casablanca (1942)'),\n",
       " (tensor(1.1345), 'Lawrence of Arabia (1962)'),\n",
       " (tensor(1.0893), 'Godfather, The (1972)'),\n",
       " (tensor(1.0396), 'When We Were Kings (1996)'),\n",
       " (tensor(1.0326), 'Third Man, The (1949)'),\n",
       " (tensor(1.0315), 'Chinatown (1974)'),\n",
       " (tensor(1.0092), 'North by Northwest (1959)'),\n",
       " (tensor(0.9983), 'Secrets & Lies (1996)')]"
      ]
     },
     "metadata": {
      "after": [],
      "completed": "2020-01-31T06:58:53.993598",
      "data": {},
      "engine_id": 0,
      "engine_uuid": "6b1cfa96-f5f820c5f6aaec81705e33fd",
      "error": null,
      "execute_input": "sorted(movie_comp, key=itemgetter(0), reverse=True)[:10]\n",
      "execute_result": {
       "data": {
        "text/plain": "[(tensor(1.1931), 'Close Shave, A (1995)'),\n (tensor(1.1594), 'Wrong Trousers, The (1993)'),\n (tensor(1.1374), 'Casablanca (1942)'),\n (tensor(1.1345), 'Lawrence of Arabia (1962)'),\n (tensor(1.0893), 'Godfather, The (1972)'),\n (tensor(1.0396), 'When We Were Kings (1996)'),\n (tensor(1.0326), 'Third Man, The (1949)'),\n (tensor(1.0315), 'Chinatown (1974)'),\n (tensor(1.0092), 'North by Northwest (1959)'),\n (tensor(0.9983), 'Secrets & Lies (1996)')]"
       },
       "execution_count": 24,
       "metadata": {}
      },
      "follow": [],
      "msg_id": "4a2c56eb-b447f36a9eab7e2597767f60",
      "outputs": [],
      "received": "2020-01-31T06:58:53.997080",
      "started": "2020-01-31T06:58:53.957952",
      "status": "ok",
      "stderr": "",
      "stdout": "",
      "submitted": "2020-01-31T06:58:53.954518"
     },
     "output_type": "display_data"
    }
   ],
   "source": [
    "sorted(movie_comp, key=itemgetter(0), reverse=True)[:10]"
   ]
  },
  {
   "cell_type": "code",
   "execution_count": 41,
   "metadata": {},
   "outputs": [
    {
     "name": "stdout",
     "output_type": "stream",
     "text": [
      "%%dip : Running cell in remote DDP namespace (GPUs: [0, 1, 2]).\n"
     ]
    },
    {
     "data": {
      "text/plain": [
       "\u001b[0;31mOut[0:25]: \u001b[0m\n",
       "[(tensor(-1.4124), \"McHale's Navy (1997)\"),\n",
       " (tensor(-1.3947), 'Children of the Corn: The Gathering (1996)'),\n",
       " (tensor(-1.2872), 'Leave It to Beaver (1997)'),\n",
       " (tensor(-1.2825), 'Home Alone 3 (1997)'),\n",
       " (tensor(-1.2667), 'Free Willy 3: The Rescue (1997)'),\n",
       " (tensor(-1.2593), 'Jungle2Jungle (1997)'),\n",
       " (tensor(-1.2444), 'Bio-Dome (1996)'),\n",
       " (tensor(-1.2436), 'D3: The Mighty Ducks (1996)'),\n",
       " (tensor(-1.1954), 'Congo (1995)'),\n",
       " (tensor(-1.1397), 'Lawnmower Man 2: Beyond Cyberspace (1996)')]"
      ]
     },
     "metadata": {
      "after": [],
      "completed": "2020-01-31T06:58:54.737839",
      "data": {},
      "engine_id": 0,
      "engine_uuid": "6b1cfa96-f5f820c5f6aaec81705e33fd",
      "error": null,
      "execute_input": "sorted(movie_comp, key=itemgetter(0))[:10]\n",
      "execute_result": {
       "data": {
        "text/plain": "[(tensor(-1.4124), \"McHale's Navy (1997)\"),\n (tensor(-1.3947), 'Children of the Corn: The Gathering (1996)'),\n (tensor(-1.2872), 'Leave It to Beaver (1997)'),\n (tensor(-1.2825), 'Home Alone 3 (1997)'),\n (tensor(-1.2667), 'Free Willy 3: The Rescue (1997)'),\n (tensor(-1.2593), 'Jungle2Jungle (1997)'),\n (tensor(-1.2444), 'Bio-Dome (1996)'),\n (tensor(-1.2436), 'D3: The Mighty Ducks (1996)'),\n (tensor(-1.1954), 'Congo (1995)'),\n (tensor(-1.1397), 'Lawnmower Man 2: Beyond Cyberspace (1996)')]"
       },
       "execution_count": 25,
       "metadata": {}
      },
      "follow": [],
      "msg_id": "e49bb172-f9e624a0161e6ffb9fbb05c4",
      "outputs": [],
      "received": "2020-01-31T06:58:54.740577",
      "started": "2020-01-31T06:58:54.701506",
      "status": "ok",
      "stderr": "",
      "stdout": "",
      "submitted": "2020-01-31T06:58:54.698301"
     },
     "output_type": "display_data"
    }
   ],
   "source": [
    "sorted(movie_comp, key=itemgetter(0))[:10]"
   ]
  },
  {
   "cell_type": "code",
   "execution_count": 42,
   "metadata": {},
   "outputs": [
    {
     "name": "stdout",
     "output_type": "stream",
     "text": [
      "%%dip : Running cell in remote DDP namespace (GPUs: [0, 1, 2]).\n"
     ]
    }
   ],
   "source": [
    "movie_comp = [(f, i) for f,i in zip(fac1, top_movies)]"
   ]
  },
  {
   "cell_type": "code",
   "execution_count": 43,
   "metadata": {},
   "outputs": [
    {
     "name": "stdout",
     "output_type": "stream",
     "text": [
      "%%dip : Running cell in remote DDP namespace (GPUs: [0, 1, 2]).\n"
     ]
    },
    {
     "data": {
      "text/plain": [
       "\u001b[0;31mOut[0:27]: \u001b[0m\n",
       "[(tensor(1.1838), 'Braveheart (1995)'),\n",
       " (tensor(1.1466), 'Raiders of the Lost Ark (1981)'),\n",
       " (tensor(1.0478), 'Titanic (1997)'),\n",
       " (tensor(0.9654), \"It's a Wonderful Life (1946)\"),\n",
       " (tensor(0.9277), 'Independence Day (ID4) (1996)'),\n",
       " (tensor(0.8935), 'Pretty Woman (1990)'),\n",
       " (tensor(0.8833), 'Star Wars (1977)'),\n",
       " (tensor(0.8767), 'American President, The (1995)'),\n",
       " (tensor(0.8657), 'Indiana Jones and the Last Crusade (1989)'),\n",
       " (tensor(0.8646), 'Back to the Future (1985)')]"
      ]
     },
     "metadata": {
      "after": [],
      "completed": "2020-01-31T06:58:56.061013",
      "data": {},
      "engine_id": 0,
      "engine_uuid": "6b1cfa96-f5f820c5f6aaec81705e33fd",
      "error": null,
      "execute_input": "sorted(movie_comp, key=itemgetter(0), reverse=True)[:10]\n",
      "execute_result": {
       "data": {
        "text/plain": "[(tensor(1.1838), 'Braveheart (1995)'),\n (tensor(1.1466), 'Raiders of the Lost Ark (1981)'),\n (tensor(1.0478), 'Titanic (1997)'),\n (tensor(0.9654), \"It's a Wonderful Life (1946)\"),\n (tensor(0.9277), 'Independence Day (ID4) (1996)'),\n (tensor(0.8935), 'Pretty Woman (1990)'),\n (tensor(0.8833), 'Star Wars (1977)'),\n (tensor(0.8767), 'American President, The (1995)'),\n (tensor(0.8657), 'Indiana Jones and the Last Crusade (1989)'),\n (tensor(0.8646), 'Back to the Future (1985)')]"
       },
       "execution_count": 27,
       "metadata": {}
      },
      "follow": [],
      "msg_id": "d3c10e9c-da7ed6de4a07f0658bf7bf6d",
      "outputs": [],
      "received": "2020-01-31T06:58:56.064543",
      "started": "2020-01-31T06:58:56.018132",
      "status": "ok",
      "stderr": "",
      "stdout": "",
      "submitted": "2020-01-31T06:58:56.015328"
     },
     "output_type": "display_data"
    }
   ],
   "source": [
    "sorted(movie_comp, key=itemgetter(0), reverse=True)[:10]"
   ]
  },
  {
   "cell_type": "code",
   "execution_count": 44,
   "metadata": {},
   "outputs": [
    {
     "name": "stdout",
     "output_type": "stream",
     "text": [
      "%%dip : Running cell in remote DDP namespace (GPUs: [0, 1, 2]).\n"
     ]
    },
    {
     "data": {
      "text/plain": [
       "\u001b[0;31mOut[0:28]: \u001b[0m\n",
       "[(tensor(-1.0625), 'Ready to Wear (Pret-A-Porter) (1994)'),\n",
       " (tensor(-1.0119), 'Keys to Tulsa (1997)'),\n",
       " (tensor(-0.8555), 'Trainspotting (1996)'),\n",
       " (tensor(-0.8309), 'Nosferatu (Nosferatu, eine Symphonie des Grauens) (1922)'),\n",
       " (tensor(-0.8164), 'Clockwork Orange, A (1971)'),\n",
       " (tensor(-0.7848), 'Brazil (1985)'),\n",
       " (tensor(-0.7770), 'Beavis and Butt-head Do America (1996)'),\n",
       " (tensor(-0.7692), 'Lost Highway (1997)'),\n",
       " (tensor(-0.7672), 'Dead Man (1995)'),\n",
       " (tensor(-0.7666), 'Serial Mom (1994)')]"
      ]
     },
     "metadata": {
      "after": [],
      "completed": "2020-01-31T06:58:56.387970",
      "data": {},
      "engine_id": 0,
      "engine_uuid": "6b1cfa96-f5f820c5f6aaec81705e33fd",
      "error": null,
      "execute_input": "sorted(movie_comp, key=itemgetter(0))[:10]\n",
      "execute_result": {
       "data": {
        "text/plain": "[(tensor(-1.0625), 'Ready to Wear (Pret-A-Porter) (1994)'),\n (tensor(-1.0119), 'Keys to Tulsa (1997)'),\n (tensor(-0.8555), 'Trainspotting (1996)'),\n (tensor(-0.8309), 'Nosferatu (Nosferatu, eine Symphonie des Grauens) (1922)'),\n (tensor(-0.8164), 'Clockwork Orange, A (1971)'),\n (tensor(-0.7848), 'Brazil (1985)'),\n (tensor(-0.7770), 'Beavis and Butt-head Do America (1996)'),\n (tensor(-0.7692), 'Lost Highway (1997)'),\n (tensor(-0.7672), 'Dead Man (1995)'),\n (tensor(-0.7666), 'Serial Mom (1994)')]"
       },
       "execution_count": 28,
       "metadata": {}
      },
      "follow": [],
      "msg_id": "217365f3-ff25599f8a5ff04dff6ffd34",
      "outputs": [],
      "received": "2020-01-31T06:58:56.390221",
      "started": "2020-01-31T06:58:56.342188",
      "status": "ok",
      "stderr": "",
      "stdout": "",
      "submitted": "2020-01-31T06:58:56.338719"
     },
     "output_type": "display_data"
    }
   ],
   "source": [
    "sorted(movie_comp, key=itemgetter(0))[:10]"
   ]
  },
  {
   "cell_type": "code",
   "execution_count": 45,
   "metadata": {},
   "outputs": [
    {
     "name": "stdout",
     "output_type": "stream",
     "text": [
      "%%dip : Running cell in remote DDP namespace (GPUs: [0, 1, 2]).\n"
     ]
    },
    {
     "data": {
      "text/plain": [
       "[output:0]"
      ]
     },
     "metadata": {},
     "output_type": "display_data"
    },
    {
     "data": {
      "image/png": "[encoded data removed]",
      "text/plain": [
       "<Figure size 1080x1080 with 1 Axes>"
      ]
     },
     "metadata": {
      "engine": 0,
      "needs_background": "light"
     },
     "output_type": "display_data"
    }
   ],
   "source": [
    "idxs = np.random.choice(len(top_movies), 50, replace=False)\n",
    "idxs = list(range(50))\n",
    "X = fac0[idxs]\n",
    "Y = fac2[idxs]\n",
    "plt.figure(figsize=(15,15))\n",
    "plt.scatter(X, Y)\n",
    "for i, x, y in zip(top_movies[idxs], X, Y):\n",
    "    plt.text(x,y,i, color=np.random.rand(3)*0.7, fontsize=11)\n",
    "plt.show()"
   ]
  },
  {
   "cell_type": "code",
   "execution_count": null,
   "metadata": {},
   "outputs": [],
   "source": []
  }
 ],
 "metadata": {
  "kernelspec": {
   "display_name": "Python 3",
   "language": "python",
   "name": "python3"
  },
  "language_info": {
   "codemirror_mode": {
    "name": "ipython",
    "version": 3
   },
   "file_extension": ".py",
   "mimetype": "text/x-python",
   "name": "python",
   "nbconvert_exporter": "python",
   "pygments_lexer": "ipython3",
   "version": "3.7.4"
  }
 },
 "nbformat": 4,
 "nbformat_minor": 2
}
